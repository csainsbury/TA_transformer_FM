{
 "cells": [
  {
   "cell_type": "code",
   "execution_count": 23,
   "metadata": {},
   "outputs": [
    {
     "name": "stderr",
     "output_type": "stream",
     "text": [
      "2024-10-14 21:37:22,596 - INFO - Using device: cuda\n",
      "2024-10-14 21:37:22,598 - INFO - Loading preprocessed data from preprocessed_data.pkl\n"
     ]
    }
   ],
   "source": [
    "# Data Preprocessing Section\n",
    "\n",
    "import torch\n",
    "import numpy as np\n",
    "import pandas as pd\n",
    "from typing import List, Dict, Tuple\n",
    "from pathlib import Path\n",
    "from sklearn.preprocessing import StandardScaler, OneHotEncoder\n",
    "from datetime import datetime\n",
    "import logging\n",
    "from tqdm import tqdm\n",
    "import warnings\n",
    "import pickle  # Add this import\n",
    "\n",
    "\n",
    "# Set up logging\n",
    "logging.basicConfig(level=logging.INFO, format='%(asctime)s - %(levelname)s - %(message)s')\n",
    "\n",
    "# Suppress sklearn warnings\n",
    "warnings.filterwarnings(\"ignore\", category=UserWarning)\n",
    "\n",
    "# Check for GPU availability\n",
    "device = torch.device(\"cuda\" if torch.cuda.is_available() else \"cpu\")\n",
    "logging.info(f\"Using device: {device}\")\n",
    "\n",
    "class EHRDataPreprocessor:\n",
    "    def __init__(self, data_path: str, feature_files: List[str], demographic_file: str, max_seq_length: int):\n",
    "        self.data_path = Path(data_path)\n",
    "        self.feature_files = feature_files\n",
    "        self.demographic_file = demographic_file\n",
    "        self.max_seq_length = max_seq_length\n",
    "        self.data_types = self._get_data_types()\n",
    "        self.data_type_to_idx = {dt: idx for idx, dt in enumerate(self.data_types)}\n",
    "        self.value_normalizer = ValueNormalizer()\n",
    "        self.reference_date = datetime(2000, 1, 1)\n",
    "        self.continuous_features = ['hba1c', 'sbp', 'bmi', 'creat']\n",
    "        self.categorical_features = []\n",
    "\n",
    "    def _get_data_types(self) -> List[str]:\n",
    "        return [file.split('.')[0] for file in self.feature_files] + ['demographics']\n",
    "\n",
    "    def load_and_preprocess_data(self) -> Dict[int, Dict[str, torch.Tensor]]:\n",
    "        feature_data = self._load_feature_data()\n",
    "        demographic_data = self._load_demographic_data()\n",
    "        \n",
    "        logging.info(\"Fitting normalizers...\")\n",
    "        self.value_normalizer.fit(feature_data, demographic_data)\n",
    "        \n",
    "        logging.info(\"Preprocessing data...\")\n",
    "        preprocessed_data = {}\n",
    "        for patient_id in tqdm(feature_data.keys(), desc=\"Processing patients\"):\n",
    "            patient_feature_data = feature_data[patient_id]\n",
    "            patient_demographic_data = demographic_data.get(patient_id, {})\n",
    "            try:\n",
    "                preprocessed_data[patient_id] = self.preprocess_patient_data(patient_id, patient_feature_data, patient_demographic_data)\n",
    "            except Exception as e:\n",
    "                logging.error(f\"Error processing patient {patient_id}: {str(e)}\")\n",
    "        \n",
    "        return preprocessed_data\n",
    "\n",
    "    def _load_feature_data(self) -> Dict[int, List[Tuple[str, float, float]]]:\n",
    "        feature_data = {}\n",
    "        for file in self.feature_files:\n",
    "            df = pd.read_csv(self.data_path / file)\n",
    "            feature_name = file.split('.')[0]\n",
    "            for _, row in df.iterrows():\n",
    "                patient_id = int(row['patient_id'])\n",
    "                if patient_id not in feature_data:\n",
    "                    feature_data[patient_id] = []\n",
    "                timestamp = (datetime.strptime(row['timestamp'], '%Y-%m-%d') - self.reference_date).days\n",
    "                value = row['value'] if pd.notna(row['value']) else None\n",
    "                feature_data[patient_id].append((feature_name, value, float(timestamp)))\n",
    "        return feature_data\n",
    "\n",
    "    def _load_demographic_data(self) -> Dict[int, Dict[str, str]]:\n",
    "        df = pd.read_csv(self.data_path / self.demographic_file)\n",
    "        return {int(row['patient_id']): {col: str(row[col]) for col in df.columns if col != 'patient_id'} for _, row in df.iterrows()}\n",
    "\n",
    "    def preprocess_patient_data(self, patient_id: int, feature_data: List[Tuple[str, float, float]], demographic_data: Dict[str, str]) -> Dict[str, torch.Tensor]:\n",
    "        feature_data.sort(key=lambda x: x[2])\n",
    "        seq_length = min(len(feature_data) + 1, self.max_seq_length)\n",
    "        data_type_tensor = torch.zeros(seq_length, dtype=torch.long)\n",
    "        value_tensor = torch.zeros(seq_length)\n",
    "        time_tensor = torch.zeros(seq_length)\n",
    "        mask_tensor = torch.zeros(seq_length, dtype=torch.bool)\n",
    "        missing_tensor = torch.zeros(seq_length, dtype=torch.bool)\n",
    "\n",
    "        for i, (data_type, value, timestamp) in enumerate(feature_data[:seq_length - 1]):\n",
    "            data_type_tensor[i] = self.data_type_to_idx[data_type]\n",
    "            if value is not None:\n",
    "                value_tensor[i] = self.value_normalizer.normalize(data_type, value)\n",
    "                mask_tensor[i] = True\n",
    "            else:\n",
    "                missing_tensor[i] = True\n",
    "            time_tensor[i] = timestamp\n",
    "\n",
    "        demo_idx = seq_length - 1\n",
    "        data_type_tensor[demo_idx] = self.data_type_to_idx['demographics']\n",
    "        value_tensor[demo_idx] = self.value_normalizer.normalize_demographics(demographic_data)\n",
    "        time_tensor[demo_idx] = time_tensor[demo_idx - 1] if demo_idx > 0 else 0\n",
    "        mask_tensor[demo_idx] = True\n",
    "\n",
    "        time_diff_tensor = torch.zeros_like(time_tensor)\n",
    "        time_diff_tensor[1:] = time_tensor[1:] - time_tensor[:-1]\n",
    "\n",
    "        # Move tensors to GPU\n",
    "        return {\n",
    "            'patient_id': patient_id,\n",
    "            'data_type': data_type_tensor,\n",
    "            'value': value_tensor,\n",
    "            'timestamp': time_tensor,\n",
    "            'time_diff': time_diff_tensor,\n",
    "            'mask': mask_tensor,\n",
    "            'missing': missing_tensor\n",
    "        }\n",
    "\n",
    "\n",
    "class ValueNormalizer:\n",
    "    def __init__(self):\n",
    "        self.feature_scalers = {}\n",
    "        self.demographic_encoder = None\n",
    "        self.demographic_scaler = None\n",
    "        self.reference_date = datetime(2000, 1, 1)\n",
    "        self.demographic_columns = []\n",
    "        self.data_type_to_idx = {}  # Add this line\n",
    "        self.idx_to_data_type = {}  # Add this line\n",
    "\n",
    "    def fit(self, feature_data: Dict[int, List[Tuple[str, float, float]]], demographic_data: Dict[int, Dict[str, str]]):\n",
    "        feature_values = {feature: [] for feature in set(data_type for patient in feature_data.values() for data_type, _, _ in patient)}\n",
    "        for patient_data in feature_data.values():\n",
    "            for data_type, value, _ in patient_data:\n",
    "                if value is not None:\n",
    "                    feature_values[data_type].append(value)\n",
    "        \n",
    "        for feature, values in feature_values.items():\n",
    "            self.feature_scalers[feature] = StandardScaler().fit(np.array(values).reshape(-1, 1))\n",
    "\n",
    "        demographic_df = pd.DataFrame(demographic_data).T\n",
    "        self.demographic_columns = demographic_df.columns.tolist()\n",
    "\n",
    "        demographic_df['age'] = (pd.to_datetime(demographic_df['DOB'], errors='coerce') - self.reference_date).dt.days / 365.25\n",
    "        demographic_df['years_since_diagnosis'] = (pd.to_datetime(demographic_df['date_diagnosis'], errors='coerce') - self.reference_date).dt.days / 365.25\n",
    "        \n",
    "        categorical_columns = ['dm_type', 'sex', 'ethCode']\n",
    "        \n",
    "        self.demographic_encoder = OneHotEncoder(sparse_output=False, handle_unknown='ignore')\n",
    "        self.demographic_encoder.fit(demographic_df[categorical_columns])\n",
    "        \n",
    "        numerical_columns = ['age', 'years_since_diagnosis']\n",
    "        self.demographic_scaler = StandardScaler().fit(demographic_df[numerical_columns].fillna(0))\n",
    "        \n",
    "        # Create bidirectional mappings\n",
    "        self.data_type_to_idx = {data_type: idx for idx, data_type in enumerate(self.feature_scalers.keys())}\n",
    "        self.idx_to_data_type = {idx: data_type for data_type, idx in self.data_type_to_idx.items()}\n",
    "\n",
    "    def normalize(self, data_type: str, value: float) -> float:\n",
    "        if data_type in self.feature_scalers:\n",
    "            return self.feature_scalers[data_type].transform([[value]])[0][0]\n",
    "        else:\n",
    "            return value\n",
    "        \n",
    "    def inverse_normalize(self, data_type: str, value: float) -> float:\n",
    "        if data_type in self.feature_scalers:\n",
    "            return self.feature_scalers[data_type].inverse_transform([[value]])[0][0]\n",
    "        else:\n",
    "            return value\n",
    "\n",
    "    def normalize_demographics(self, demographic_data: Dict[str, str]) -> float:\n",
    "        try:\n",
    "            dob = pd.to_datetime(demographic_data.get('DOB', '2000-01-01'), errors='coerce')\n",
    "            diagnosis_date = pd.to_datetime(demographic_data.get('date_diagnosis', '2000-01-01'), errors='coerce')\n",
    "            \n",
    "            age = (self.reference_date - dob).days / 365.25 if pd.notnull(dob) else 0\n",
    "            years_since_diagnosis = (self.reference_date - diagnosis_date).days / 365.25 if pd.notnull(diagnosis_date) else 0\n",
    "            \n",
    "            categorical_data = [\n",
    "                demographic_data.get('dm_type', 'Unknown'),\n",
    "                demographic_data.get('sex', 'Unknown'),\n",
    "                demographic_data.get('ethCode', 'Unknown')\n",
    "            ]\n",
    "            \n",
    "            encoded_categorical = self.demographic_encoder.transform([categorical_data])\n",
    "            scaled_numerical = self.demographic_scaler.transform([[age, years_since_diagnosis]])\n",
    "            \n",
    "            all_features = np.concatenate([encoded_categorical.flatten(), scaled_numerical.flatten()])\n",
    "            \n",
    "            return float(np.mean(all_features))\n",
    "        except Exception as e:\n",
    "            logging.error(f\"Error in normalize_demographics: {str(e)}\")\n",
    "            logging.error(f\"Demographic data: {demographic_data}\")\n",
    "            return 0.0\n",
    "        \n",
    "    def inverse_normalize(self, data_type: str, value: float) -> float:\n",
    "        if data_type in self.feature_scalers:\n",
    "            return self.feature_scalers[data_type].inverse_transform([[value]])[0][0]\n",
    "        else:\n",
    "            return value\n",
    "\n",
    "# Example usage\n",
    "data_path = \"./processed_data\"\n",
    "feature_files = [\"hba1c.csv\", \"sbp.csv\", \"bmi.csv\", \"creat.csv\"]\n",
    "demographic_file = \"demographics.csv\"\n",
    "max_seq_length = 40\n",
    "\n",
    "preprocessed_data_file = 'preprocessed_data.pkl'\n",
    "\n",
    "if Path(preprocessed_data_file).exists():\n",
    "    logging.info(f\"Loading preprocessed data from {preprocessed_data_file}\")\n",
    "    with open(preprocessed_data_file, 'rb') as f:\n",
    "        preprocessed_data = pickle.load(f)\n",
    "else:\n",
    "    logging.info(\"Preprocessing data...\")\n",
    "    preprocessor = EHRDataPreprocessor(data_path, feature_files, demographic_file, max_seq_length)\n",
    "    preprocessed_data = preprocessor.load_and_preprocess_data()\n",
    "    \n",
    "    logging.info(f\"Saving preprocessed data to {preprocessed_data_file}\")\n",
    "    with open(preprocessed_data_file, 'wb') as f:\n",
    "        pickle.dump(preprocessed_data, f)\n",
    "        "
   ]
  },
  {
   "cell_type": "code",
   "execution_count": 24,
   "metadata": {},
   "outputs": [
    {
     "name": "stdout",
     "output_type": "stream",
     "text": [
      "True\n",
      "1\n",
      "0\n",
      "<torch.cuda.device object at 0x7f8ebdafc070>\n",
      "NVIDIA GeForce RTX 3090 Ti\n"
     ]
    }
   ],
   "source": [
    "print(torch.cuda.is_available())\n",
    "print(torch.cuda.device_count())\n",
    "print(torch.cuda.current_device())\n",
    "print(torch.cuda.device(0))\n",
    "print(torch.cuda.get_device_name(0))"
   ]
  },
  {
   "cell_type": "code",
   "execution_count": 25,
   "metadata": {},
   "outputs": [
    {
     "name": "stdout",
     "output_type": "stream",
     "text": [
      "Keys in batch: dict_keys(['patient_id', 'data_type', 'value', 'timestamp', 'time_diff', 'mask', 'missing', 'attention_mask', 'lengths'])\n",
      "Patient IDs shape: torch.Size([32])\n"
     ]
    }
   ],
   "source": [
    "import torch\n",
    "from torch.utils.data import Dataset, DataLoader\n",
    "from torch.nn.utils.rnn import pad_sequence\n",
    "from torch.utils.data import Sampler\n",
    "import random\n",
    "\n",
    "class EHRDataset(Dataset):\n",
    "    def __init__(self, preprocessed_data):\n",
    "        self.data = list(preprocessed_data.values())\n",
    "\n",
    "    def __len__(self):\n",
    "        return len(self.data)\n",
    "\n",
    "    def __getitem__(self, idx):\n",
    "        return self.data[idx]\n",
    "\n",
    "def collate_fn(batch):\n",
    "    batch = sorted(batch, key=lambda x: len(x['data_type']), reverse=True)\n",
    "    \n",
    "    lengths = [len(item['data_type']) for item in batch]\n",
    "    max_len = max(lengths)\n",
    "\n",
    "    padded_batch = {\n",
    "        'patient_id': torch.tensor([item['patient_id'] for item in batch]),\n",
    "        'data_type': pad_sequence([item['data_type'] for item in batch], batch_first=True, padding_value=0),\n",
    "        'value': pad_sequence([item['value'] for item in batch], batch_first=True, padding_value=0.0),\n",
    "        'timestamp': pad_sequence([item['timestamp'] for item in batch], batch_first=True, padding_value=0.0),\n",
    "        'time_diff': pad_sequence([item['time_diff'] for item in batch], batch_first=True, padding_value=0.0),\n",
    "        'mask': pad_sequence([item['mask'] for item in batch], batch_first=True, padding_value=False),\n",
    "        'missing': pad_sequence([item['missing'] for item in batch], batch_first=True, padding_value=True)\n",
    "    }\n",
    "\n",
    "    attention_mask = torch.zeros(len(batch), max_len, dtype=torch.bool)\n",
    "    for i, length in enumerate(lengths):\n",
    "        attention_mask[i, :length] = 1\n",
    "\n",
    "    padded_batch['attention_mask'] = attention_mask\n",
    "    padded_batch['lengths'] = torch.tensor(lengths)\n",
    "\n",
    "    return padded_batch  # Return CPU tensors\n",
    "\n",
    "class PatientSampler(Sampler):\n",
    "    def __init__(self, dataset, batch_size, drop_last=False):\n",
    "        self.dataset = dataset\n",
    "        self.batch_size = batch_size\n",
    "        self.drop_last = drop_last\n",
    "        self.patient_to_indices = self._create_patient_to_indices()\n",
    "\n",
    "    def _create_patient_to_indices(self):\n",
    "        patient_to_indices = {}\n",
    "        for idx, item in enumerate(self.dataset.data):\n",
    "            patient_id = item['patient_id']\n",
    "            if patient_id not in patient_to_indices:\n",
    "                patient_to_indices[patient_id] = []\n",
    "            patient_to_indices[patient_id].append(idx)\n",
    "        return patient_to_indices\n",
    "\n",
    "    def __iter__(self):\n",
    "        batches = []\n",
    "        patients = list(self.patient_to_indices.keys())\n",
    "        random.shuffle(patients)\n",
    "        \n",
    "        current_batch = []\n",
    "        for patient in patients:\n",
    "            indices = self.patient_to_indices[patient]\n",
    "            if len(indices) >= 2:\n",
    "                # Add two instances of the same patient to ensure positive pairs\n",
    "                current_batch.extend(random.sample(indices, 2))\n",
    "            elif len(indices) == 1:\n",
    "                # If only one instance, add it twice\n",
    "                current_batch.extend(indices * 2)\n",
    "            \n",
    "            if len(current_batch) >= self.batch_size:\n",
    "                batches.append(current_batch[:self.batch_size])\n",
    "                current_batch = current_batch[self.batch_size:]\n",
    "        \n",
    "        if not self.drop_last and current_batch:\n",
    "            batches.append(current_batch)\n",
    "        \n",
    "        random.shuffle(batches)\n",
    "        return iter(batches)\n",
    "\n",
    "    def __len__(self):\n",
    "        if self.drop_last:\n",
    "            return len(self.dataset) // self.batch_size\n",
    "        else:\n",
    "            return (len(self.dataset) + self.batch_size - 1) // self.batch_size\n",
    "\n",
    "\n",
    "# Create the dataset\n",
    "dataset = EHRDataset(preprocessed_data)\n",
    "\n",
    "# Create the patient sampler\n",
    "patient_sampler = PatientSampler(dataset, batch_size=2)\n",
    "\n",
    "# Create the dataloader\n",
    "dataloader = DataLoader(dataset, batch_size=32, shuffle=True, collate_fn=collate_fn, pin_memory=True)\n",
    "\n",
    "\n",
    "# Verify that patient_id is included in the batch\n",
    "for batch in dataloader:\n",
    "    print(\"Keys in batch:\", batch.keys())\n",
    "    print(\"Patient IDs shape:\", batch['patient_id'].shape)\n",
    "    break  # Just check the first batch"
   ]
  },
  {
   "cell_type": "code",
   "execution_count": 26,
   "metadata": {},
   "outputs": [
    {
     "name": "stdout",
     "output_type": "stream",
     "text": [
      "Using device: cuda\n",
      "Mask shape: torch.Size([512, 40])\n",
      "Output shape: torch.Size([512, 40, 128])\n"
     ]
    }
   ],
   "source": [
    "# Model Architecture Section\n",
    "\n",
    "import torch\n",
    "import torch.nn as nn\n",
    "import torch.nn.functional as F\n",
    "import math\n",
    "\n",
    "class TimeAwareMultiHeadAttention(nn.Module):\n",
    "    def __init__(self, d_model, num_heads):\n",
    "        super().__init__()\n",
    "        assert d_model % num_heads == 0, \"d_model must be divisible by num_heads\"\n",
    "        \n",
    "        self.d_model = d_model\n",
    "        self.num_heads = num_heads\n",
    "        self.d_k = d_model // num_heads\n",
    "        \n",
    "        self.W_q = nn.Linear(d_model, d_model)\n",
    "        self.W_k = nn.Linear(d_model, d_model)\n",
    "        self.W_v = nn.Linear(d_model, d_model)\n",
    "        self.W_o = nn.Linear(d_model, d_model)\n",
    "        \n",
    "    def forward(self, query, key, value, time_diff, mask=None):\n",
    "        batch_size = query.size(0)\n",
    "        seq_length = query.size(1)\n",
    "        \n",
    "        Q = self.W_q(query)\n",
    "        K = self.W_k(key)\n",
    "        V = self.W_v(value)\n",
    "        \n",
    "        Q = Q.view(batch_size, seq_length, self.num_heads, self.d_k).transpose(1, 2)\n",
    "        K = K.view(batch_size, seq_length, self.num_heads, self.d_k).transpose(1, 2)\n",
    "        V = V.view(batch_size, seq_length, self.num_heads, self.d_k).transpose(1, 2)\n",
    "        \n",
    "        time_diff = time_diff.unsqueeze(1).unsqueeze(1)  # [batch_size, 1, 1, seq_length]\n",
    "        time_diff = time_diff.expand(-1, self.num_heads, seq_length, -1)  # [batch_size, num_heads, seq_length, seq_length]\n",
    "        time_diff = torch.abs(time_diff.transpose(-1, -2) - time_diff)\n",
    "        \n",
    "        scores = torch.matmul(Q, K.transpose(-2, -1)) / math.sqrt(self.d_k)\n",
    "        time_impact = torch.exp(-time_diff.clamp(min=-100, max=100))\n",
    "        scores = scores * time_impact\n",
    "        \n",
    "        if mask is not None:\n",
    "            scores = scores.masked_fill(~mask.unsqueeze(1).unsqueeze(2), float('-inf'))\n",
    "        \n",
    "        attn = F.softmax(scores, dim=-1)\n",
    "        attn = torch.nan_to_num(attn, 0.0, 0.0, 0.0)  # Replace NaNs with zeros\n",
    "        context = torch.matmul(attn, V)\n",
    "        \n",
    "        context = context.transpose(1, 2).contiguous().view(batch_size, seq_length, self.d_model)\n",
    "        output = self.W_o(context)\n",
    "        \n",
    "        return output\n",
    "\n",
    "class PositionalEncoding(nn.Module):\n",
    "    def __init__(self, d_model, max_len=5000):\n",
    "        super().__init__()\n",
    "        self.dropout = nn.Dropout(p=0.1)\n",
    "        pe = torch.zeros(max_len, d_model)\n",
    "        position = torch.arange(0, max_len, dtype=torch.float).unsqueeze(1)\n",
    "        div_term = torch.exp(torch.arange(0, d_model, 2).float() * (-math.log(10000.0) / d_model))\n",
    "        pe[:, 0::2] = torch.sin(position * div_term)\n",
    "        pe[:, 1::2] = torch.cos(position * div_term)\n",
    "        pe = pe.unsqueeze(0).transpose(0, 1)\n",
    "        self.register_buffer('pe', pe)\n",
    "\n",
    "    def forward(self, x, timestamps):\n",
    "        x = x + self.pe[:x.size(0), :]\n",
    "        # print(f\"In PositionalEncoding, x shape: {x.shape}, min: {x.min().item()}, max: {x.max().item()}\")\n",
    "        return self.dropout(x)\n",
    "\n",
    "class TransformerEncoderLayer(nn.Module):\n",
    "    def __init__(self, d_model, num_heads, d_ff, dropout=0.1):\n",
    "        super().__init__()\n",
    "        self.self_attn = TimeAwareMultiHeadAttention(d_model, num_heads)\n",
    "        self.feed_forward = nn.Sequential(\n",
    "            nn.Linear(d_model, d_ff),\n",
    "            nn.ReLU(),\n",
    "            nn.Linear(d_ff, d_model)\n",
    "        )\n",
    "        self.norm1 = nn.LayerNorm(d_model)\n",
    "        self.norm2 = nn.LayerNorm(d_model)\n",
    "        self.dropout = nn.Dropout(dropout)\n",
    "        \n",
    "    def forward(self, x, time_diff, mask=None):\n",
    "        # Apply layer norm before self-attention\n",
    "        x_norm = self.norm1(x)\n",
    "        \n",
    "        attn_output = self.self_attn(x_norm, x_norm, x_norm, time_diff, mask)\n",
    "        # print(f\"After self-attention, output shape: {attn_output.shape}, min: {attn_output.min().item()}, max: {attn_output.max().item()}\")\n",
    "        \n",
    "        # Add residual connection\n",
    "        x = x + self.dropout(attn_output)\n",
    "        x = torch.nan_to_num(x, 0.0, 0.0, 0.0)  # Replace NaNs with zeros\n",
    "        # print(f\"After residual connection, x shape: {x.shape}, min: {x.min().item()}, max: {x.max().item()}\")\n",
    "        \n",
    "        # Apply layer norm before feed-forward\n",
    "        x_norm = self.norm2(x)\n",
    "        ff_output = self.feed_forward(x_norm)\n",
    "        # print(f\"After feed-forward, output shape: {ff_output.shape}, min: {ff_output.min().item()}, max: {ff_output.max().item()}\")\n",
    "        \n",
    "        # Add residual connection\n",
    "        x = x + self.dropout(ff_output)\n",
    "        x = torch.nan_to_num(x, 0.0, 0.0, 0.0)  # Replace NaNs with zeros\n",
    "        # print(f\"After second residual connection, x shape: {x.shape}, min: {x.min().item()}, max: {x.max().item()}\")\n",
    "        \n",
    "        return x\n",
    "\n",
    "# Model definition\n",
    "class EHRTransformer(nn.Module):\n",
    "    def __init__(self, num_data_types, d_model, num_heads, num_layers, d_ff, dropout):\n",
    "        super().__init__()\n",
    "        self.data_type_embedding = nn.Embedding(num_data_types, d_model)\n",
    "        self.value_embedding = nn.Linear(1, d_model)\n",
    "        self.positional_encoding = PositionalEncoding(d_model)\n",
    "        \n",
    "        self.transformer_layers = nn.ModuleList([\n",
    "            TransformerEncoderLayer(d_model, num_heads, d_ff, dropout)\n",
    "            for _ in range(num_layers)\n",
    "        ])\n",
    "        \n",
    "        self.output_layer = nn.Linear(d_model, d_model)\n",
    "        self.layer_norm = nn.LayerNorm(d_model)\n",
    "        \n",
    "    def forward(self, data_type, value, timestamp, time_diff, attention_mask):\n",
    "        # Embedding layers\n",
    "        data_type_emb = self.data_type_embedding(data_type)\n",
    "        value_emb = self.value_embedding(value.unsqueeze(-1))\n",
    "        \n",
    "        # Combine embeddings\n",
    "        x = data_type_emb + value_emb\n",
    "        x = torch.clamp(x, min=-100, max=100)  # Prevent extreme values\n",
    "        \n",
    "        # Add positional encoding using timestamps\n",
    "        x = self.positional_encoding(x, timestamp)\n",
    "        x = torch.clamp(x, min=-100, max=100)  # Prevent extreme values\n",
    "        \n",
    "        # Apply transformer layers\n",
    "        for layer in self.transformer_layers:\n",
    "            x = layer(x, time_diff, attention_mask)\n",
    "            x = torch.clamp(x, min=-100, max=100)  # Prevent extreme values\n",
    "            x = torch.nan_to_num(x, 0.0, 0.0, 0.0)  # Replace NaNs with zeros\n",
    "        \n",
    "        # Output layer with layer normalization\n",
    "        output = self.layer_norm(self.output_layer(x))\n",
    "        output = torch.clamp(output, min=-100, max=100)  # Prevent extreme values\n",
    "        output = torch.nan_to_num(output, 0.0, 0.0, 0.0)  # Replace NaNs with zeros\n",
    "        \n",
    "        return output\n",
    "        pass\n",
    "    \n",
    "\n",
    "# Example usage\n",
    "num_data_types = 100  # Adjust based on your data\n",
    "d_model = 256\n",
    "num_heads = 16\n",
    "num_layers = 6\n",
    "d_ff = 512\n",
    "dropout = 0.4\n",
    "\n",
    "device = torch.device(\"cuda\" if torch.cuda.is_available() else \"cpu\")\n",
    "# device = torch.device(\"cpu\")\n",
    "print(f\"Using device: {device}\")\n",
    "\n",
    "# Create the model and move it to the device\n",
    "model = EHRTransformer(num_data_types, d_model, num_heads, num_layers, d_ff, dropout).to(device)\n",
    "optimizer = torch.optim.Adam(model.parameters(), lr=1e-4)\n",
    "\n",
    "# Create the dataset and dataloader\n",
    "dataset = EHRDataset(preprocessed_data)\n",
    "dataloader = DataLoader(dataset, batch_size=512, shuffle=True, collate_fn=collate_fn, pin_memory=True)\n",
    "\n",
    "# Test the model with a batch\n",
    "for batch in dataloader:\n",
    "    # Move the entire batch to the device\n",
    "    batch = {k: v.to(device) for k, v in batch.items()}\n",
    "    \n",
    "    # Print the shape of the mask before passing it to the model\n",
    "    print(f\"Mask shape: {batch['mask'].shape}\")\n",
    "    \n",
    "    output = model(batch['data_type'], batch['value'], batch['timestamp'], batch['time_diff'], batch['mask'])\n",
    "    print(f\"Output shape: {output.shape}\")\n",
    "    break  # Just to check the first batch"
   ]
  },
  {
   "cell_type": "code",
   "execution_count": 36,
   "metadata": {},
   "outputs": [],
   "source": [
    "import torch\n",
    "import torch.nn as nn\n",
    "import torch.optim as optim\n",
    "from torch.utils.data import DataLoader\n",
    "from tqdm import tqdm\n",
    "import random\n",
    "import json\n",
    "import matplotlib.pyplot as plt\n",
    "import numpy as np\n",
    "import torch.nn.functional as F\n",
    "\n",
    "class MaskedReconstructionLoss(nn.Module):\n",
    "    def __init__(self, continuous_features, num_categories):\n",
    "        super().__init__()\n",
    "        self.mse_loss = nn.MSELoss(reduction='none')\n",
    "        self.ce_loss = nn.CrossEntropyLoss(reduction='none', ignore_index=-1)\n",
    "        self.continuous_features = continuous_features\n",
    "        self.num_categories = num_categories\n",
    "\n",
    "    def forward(self, predictions, targets, data_type, mask_indices, attention_mask):\n",
    "        active_loss = (attention_mask.view(-1) == 1) & (mask_indices.view(-1) == 1)\n",
    "        active_preds = predictions.view(-1, predictions.size(-1))[active_loss]\n",
    "        active_targets = targets.view(-1)[active_loss]\n",
    "        active_data_type = data_type.view(-1)[active_loss]\n",
    "\n",
    "        cont_mask = torch.tensor([dt in self.continuous_features for dt in active_data_type])\n",
    "        cat_mask = ~cont_mask\n",
    "\n",
    "        total_loss = 0\n",
    "        num_samples = active_loss.sum()\n",
    "\n",
    "        if cont_mask.any():\n",
    "            cont_preds = active_preds[cont_mask, 0]\n",
    "            cont_targets = active_targets[cont_mask]\n",
    "            cont_loss = self.mse_loss(cont_preds, cont_targets).mean()\n",
    "            total_loss += cont_loss\n",
    "            # print(f\"Continuous Loss: {cont_loss.item():.4f}\")\n",
    "            # print(f\"Continuous Preds min/max: {cont_preds.min().item():.4f}/{cont_preds.max().item():.4f}\")\n",
    "            # print(f\"Continuous Targets min/max: {cont_targets.min().item():.4f}/{cont_targets.max().item():.4f}\")\n",
    "\n",
    "        if cat_mask.any():\n",
    "            cat_preds = active_preds[cat_mask]\n",
    "            cat_targets = active_targets[cat_mask].long()\n",
    "            cat_targets = torch.clamp(cat_targets, min=0, max=self.num_categories-1)\n",
    "            cat_loss = self.ce_loss(cat_preds, cat_targets).mean()\n",
    "            total_loss += cat_loss\n",
    "            # print(f\"Categorical Loss: {cat_loss.item():.4f}\")\n",
    "            # print(f\"Categorical Preds min/max: {cat_preds.min().item():.4f}/{cat_preds.max().item():.4f}\")\n",
    "            # print(f\"Categorical Targets min/max: {cat_targets.min().item()}/{cat_targets.max().item()}\")\n",
    "\n",
    "        return total_loss\n",
    "\n",
    "class ContrastiveLoss(nn.Module):\n",
    "    def __init__(self, temperature=0.5):\n",
    "        super().__init__()\n",
    "        self.temperature = temperature\n",
    "\n",
    "    def forward(self, embeddings, patient_ids):\n",
    "        if torch.isnan(embeddings).any():\n",
    "            print(\"NaN detected in embeddings!\")\n",
    "            return torch.tensor(0.0, requires_grad=True)\n",
    "\n",
    "        embeddings = F.normalize(embeddings, p=2, dim=1)\n",
    "        \n",
    "        sim_matrix = torch.matmul(embeddings, embeddings.T) / self.temperature\n",
    "        \n",
    "        pos_mask = (patient_ids.unsqueeze(0) == patient_ids.unsqueeze(1)).float()\n",
    "        pos_mask.fill_diagonal_(0)\n",
    "        \n",
    "        if pos_mask.sum() == 0:\n",
    "            print(\"No positive pairs found in the batch!\")\n",
    "            return torch.tensor(0.0, requires_grad=True)\n",
    "\n",
    "        neg_mask = 1 - pos_mask\n",
    "        neg_mask.fill_diagonal_(0)\n",
    "\n",
    "        pos_sim = torch.exp(sim_matrix) * pos_mask\n",
    "        neg_sim = torch.exp(sim_matrix) * neg_mask\n",
    "\n",
    "        loss = -torch.log(pos_sim.sum(dim=1) / (pos_sim.sum(dim=1) + neg_sim.sum(dim=1) + 1e-8))\n",
    "        return loss.mean()\n",
    "        \n",
    "\n",
    "def mask_data(data, mask, mask_ratio=0.15):\n",
    "    mask_indices = torch.rand_like(data.float()) < mask_ratio\n",
    "    mask_indices = mask_indices & mask\n",
    "    masked_data = data.clone()\n",
    "    masked_data[mask_indices] = 0\n",
    "    return masked_data, mask_indices\n",
    "\n",
    "def train_epoch(model, dataloader, optimizer, continuous_features, num_categories, device, mask_ratio=0.15, clip_value=1.0):\n",
    "    model.train()\n",
    "    total_loss = 0\n",
    "    reconstruction_loss_fn = MaskedReconstructionLoss(continuous_features, num_categories).to(device)\n",
    "    contrastive_loss_fn = ContrastiveLoss().to(device)\n",
    "    \n",
    "    epoch_losses = {\n",
    "        'total': [],\n",
    "        'reconstruction': [],\n",
    "        'contrastive': []\n",
    "    }\n",
    "\n",
    "    for batch_idx, batch in enumerate(tqdm(dataloader, desc=\"Training\")):\n",
    "        optimizer.zero_grad()\n",
    "\n",
    "        # Move individual tensors to device\n",
    "        data_type = batch['data_type'].to(device)\n",
    "        value = batch['value'].to(device)\n",
    "        timestamp = batch['timestamp'].to(device)\n",
    "        time_diff = batch['time_diff'].to(device)\n",
    "        attention_mask = batch['attention_mask'].to(device)\n",
    "        patient_ids = batch['patient_id'].to(device)\n",
    "\n",
    "        masked_value, mask_indices = mask_data(value, attention_mask, mask_ratio)\n",
    "        mask_indices = mask_indices.to(device)\n",
    "\n",
    "        try:\n",
    "            output = model(data_type, masked_value, timestamp, time_diff, attention_mask)\n",
    "            \n",
    "            if torch.isnan(output).any():\n",
    "                print(f\"NaN detected in model output at batch {batch_idx}\")\n",
    "                print(f\"Input shapes: data_type {data_type.shape}, masked_value {masked_value.shape}, timestamp {timestamp.shape}, time_diff {time_diff.shape}, attention_mask {attention_mask.shape}\")\n",
    "                print(f\"Output shape: {output.shape}\")\n",
    "                print(f\"Output min/max: {output.min().item()}/{output.max().item()}\")\n",
    "                continue\n",
    "\n",
    "            recon_loss = reconstruction_loss_fn(output, value, data_type, mask_indices, attention_mask)\n",
    "            \n",
    "            mean_embedding = (output * attention_mask.unsqueeze(-1)).sum(dim=1) / (attention_mask.sum(dim=1, keepdim=True) + 1e-8)\n",
    "            contrastive_loss = contrastive_loss_fn(mean_embedding, patient_ids)\n",
    "\n",
    "            contrastive_weight = 0.1\n",
    "            loss = recon_loss + contrastive_weight * contrastive_loss\n",
    "\n",
    "            if not torch.isnan(loss) and not torch.isinf(loss):\n",
    "                loss.backward()\n",
    "                torch.nn.utils.clip_grad_norm_(model.parameters(), clip_value)\n",
    "                optimizer.step()\n",
    "\n",
    "                total_loss += loss.item()\n",
    "                epoch_losses['total'].append(loss.item())\n",
    "                epoch_losses['reconstruction'].append(recon_loss.item())\n",
    "                epoch_losses['contrastive'].append(contrastive_loss.item())\n",
    "\n",
    "            # if batch_idx % 10 == 0:\n",
    "                # print(f\"Batch {batch_idx} losses - Total: {loss.item():.4f}, Recon: {recon_loss.item():.4f}, Contrastive: {contrastive_loss.item():.4f}\")\n",
    "                #print(f\"Unique patient IDs in batch: {patient_ids.unique().shape[0]}\")\n",
    "                #print(f\"Patient ID counts: {torch.bincount(patient_ids)}\")\n",
    "\n",
    "        except Exception as e:\n",
    "            print(f\"Error in batch {batch_idx}: {str(e)}\")\n",
    "            print(\"Batch keys:\", batch.keys())\n",
    "            for key, value in batch.items():\n",
    "                print(f\"{key} shape: {value.shape}\")\n",
    "            continue\n",
    "\n",
    "    return total_loss / len(dataloader), epoch_losses\n",
    "\n",
    "# In the main training loop\n",
    "optimizer = torch.optim.Adam(model.parameters(), lr=1e-5)  # Reduced learning rate\n",
    "\n",
    "def train_model(model, dataloader, num_epochs, learning_rate, device, continuous_features, num_categories):\n",
    "    model = model.to(device)\n",
    "    print(device)\n",
    "    optimizer = torch.optim.Adam(model.parameters(), lr=1e-4)\n",
    "    \n",
    "    value_normalizer = ValueNormalizer()  # Make sure to initialize and fit this properly\n",
    "    value_normalizer.fit(feature_data, demographic_data)  # You need to do this before training\n",
    "    \n",
    "    all_losses = []\n",
    "    \n",
    "    torch.cuda.synchronize()\n",
    "\n",
    "    for epoch in range(num_epochs):\n",
    "        model.train()\n",
    "        total_loss = 0\n",
    "        for batch in tqdm(dataloader, desc=f\"Epoch {epoch+1}/{num_epochs}\"):\n",
    "            batch = {k: v.to(device) for k, v in batch.items() if isinstance(v, torch.Tensor)}\n",
    "            optimizer.zero_grad()\n",
    "            \n",
    "            # Forward pass\n",
    "            output = model(batch['data_type'], batch['value'], batch['timestamp'], batch['time_diff'], batch['mask'])\n",
    "            \n",
    "            # Compute loss (you need to define your loss function)\n",
    "            loss = compute_loss(output, batch)\n",
    "            \n",
    "            # Backward pass\n",
    "            loss.backward()\n",
    "            \n",
    "            # Gradient clipping\n",
    "            torch.nn.utils.clip_grad_norm_(model.parameters(), max_norm=1.0)\n",
    "            \n",
    "            optimizer.step()\n",
    "            \n",
    "            total_loss += loss.item()\n",
    "            \n",
    "            # Clear cache\n",
    "            torch.cuda.empty_cache()\n",
    "            \n",
    "        avg_loss = total_loss / len(dataloader)\n",
    "        logging.info(f\"Epoch {epoch+1}/{num_epochs}, Average Loss: {avg_loss:.4f}\")\n",
    "        \n",
    "        # Visualize reconstructions\n",
    "        if epoch % 5 == 0:\n",
    "            reconstruct_and_compare_features(model, dataloader, device, value_normalizer)\n",
    "\n",
    "        # Save model checkpoint\n",
    "        torch.save(model.state_dict(), f\"model_checkpoint_epoch_{epoch+1}.pth\")\n",
    "        \n",
    "    # Final model save\n",
    "    torch.save(model.state_dict(), \"final_model.pth\")\n",
    "            \n",
    "    \n",
    "    # Save losses to file\n",
    "    with open('training_losses.json', 'w') as f:\n",
    "        json.dump(all_losses, f)\n",
    "    print(\"Loss data saved to 'training_losses.json'\")\n",
    "    \n",
    "    # Plot losses\n",
    "    plot_losses(all_losses)\n",
    "\n",
    "    return model, all_losses\n",
    "\n",
    "def plot_losses(all_losses):\n",
    "    epochs = range(1, len(all_losses) + 1)\n",
    "    \n",
    "    plt.figure(figsize=(12, 8))\n",
    "    \n",
    "    # Total Loss\n",
    "    total_losses = [np.mean(epoch['total']) for epoch in all_losses]\n",
    "    plt.plot(epochs, total_losses, label='Total Loss', marker='o')\n",
    "    print('total_losses:' + str(total_losses))\n",
    "    \n",
    "    # Reconstruction Loss\n",
    "    recon_losses = [np.mean(epoch['reconstruction']) for epoch in all_losses]\n",
    "    plt.plot(epochs, recon_losses, label='Reconstruction Loss', marker='s')\n",
    "    print('recon_losses:' + str(recon_losses))\n",
    "    \n",
    "    # Contrastive Loss\n",
    "    contrastive_losses = [np.mean(epoch['contrastive']) for epoch in all_losses]\n",
    "    plt.plot(epochs, contrastive_losses, label='Contrastive Loss', marker='^')\n",
    "    print('contrastive_losses:' + str(contrastive_losses))\n",
    "    plt.title('Training Losses over Epochs')\n",
    "    plt.xlabel('Epochs')\n",
    "    plt.ylabel('Loss')\n",
    "    plt.legend()\n",
    "    plt.grid(True)\n",
    "    \n",
    "    # Save the plot\n",
    "    plt.savefig('training_losses.png')\n",
    "    print(\"Loss plot saved as 'training_losses.png'\")\n",
    "    \n",
    "    # Display the plot (if running in an interactive environment)\n",
    "    plt.show()\n",
    "    \n",
    "    # Close the plot to free up memory\n",
    "    plt.close()\n",
    "\n",
    "# Example usage\n",
    "# device = torch.device(\"cuda\" if torch.cuda.is_available() else \"cpu\")\n",
    "num_epochs = 8\n",
    "learning_rate = 1e-4\n",
    "continuous_features = ['hba1c', 'sbp', 'bmi', 'creat']  # Update this list based on your data\n",
    "num_categories = 40  # Set this to the number of categories in your categorical variables\n",
    "\n",
    "# model, losses = train_model(model, dataloader, num_epochs, learning_rate, device, continuous_features, num_categories)"
   ]
  },
  {
   "cell_type": "code",
   "execution_count": 32,
   "metadata": {},
   "outputs": [
    {
     "name": "stdout",
     "output_type": "stream",
     "text": [
      "cuda\n"
     ]
    },
    {
     "name": "stderr",
     "output_type": "stream",
     "text": [
      "Training: 7318it [01:29, 81.38it/s]                          \n"
     ]
    },
    {
     "name": "stdout",
     "output_type": "stream",
     "text": [
      "Epoch 1/200, Loss: 1.4213\n"
     ]
    },
    {
     "name": "stderr",
     "output_type": "stream",
     "text": [
      "Training: 7318it [01:30, 81.15it/s]                          \n"
     ]
    },
    {
     "name": "stdout",
     "output_type": "stream",
     "text": [
      "Epoch 2/200, Loss: 1.0979\n"
     ]
    },
    {
     "name": "stderr",
     "output_type": "stream",
     "text": [
      "Training: 7318it [01:29, 81.35it/s]                          \n"
     ]
    },
    {
     "name": "stdout",
     "output_type": "stream",
     "text": [
      "Epoch 3/200, Loss: 1.0579\n"
     ]
    },
    {
     "name": "stderr",
     "output_type": "stream",
     "text": [
      "Training: 7318it [01:29, 81.45it/s]                          \n"
     ]
    },
    {
     "name": "stdout",
     "output_type": "stream",
     "text": [
      "Epoch 4/200, Loss: 1.0394\n"
     ]
    },
    {
     "name": "stderr",
     "output_type": "stream",
     "text": [
      "Training: 7318it [01:30, 80.82it/s]                          \n"
     ]
    },
    {
     "name": "stdout",
     "output_type": "stream",
     "text": [
      "Epoch 5/200, Loss: 1.0278\n"
     ]
    },
    {
     "name": "stderr",
     "output_type": "stream",
     "text": [
      "Training: 7318it [01:30, 81.00it/s]                          \n"
     ]
    },
    {
     "name": "stdout",
     "output_type": "stream",
     "text": [
      "Epoch 6/200, Loss: 1.0143\n"
     ]
    },
    {
     "name": "stderr",
     "output_type": "stream",
     "text": [
      "Training: 7318it [01:29, 81.55it/s]                          \n"
     ]
    },
    {
     "name": "stdout",
     "output_type": "stream",
     "text": [
      "Epoch 7/200, Loss: 0.9976\n"
     ]
    },
    {
     "name": "stderr",
     "output_type": "stream",
     "text": [
      "Training: 7318it [01:29, 81.48it/s]                          \n"
     ]
    },
    {
     "name": "stdout",
     "output_type": "stream",
     "text": [
      "Epoch 8/200, Loss: 0.9830\n"
     ]
    },
    {
     "name": "stderr",
     "output_type": "stream",
     "text": [
      "Training: 7318it [01:29, 81.53it/s]                          \n"
     ]
    },
    {
     "name": "stdout",
     "output_type": "stream",
     "text": [
      "Epoch 9/200, Loss: 0.9745\n"
     ]
    },
    {
     "name": "stderr",
     "output_type": "stream",
     "text": [
      "Training: 7318it [01:29, 81.51it/s]                          \n"
     ]
    },
    {
     "name": "stdout",
     "output_type": "stream",
     "text": [
      "Epoch 10/200, Loss: 0.9684\n"
     ]
    },
    {
     "name": "stderr",
     "output_type": "stream",
     "text": [
      "Training: 7318it [01:25, 85.49it/s]                          \n"
     ]
    },
    {
     "name": "stdout",
     "output_type": "stream",
     "text": [
      "Epoch 11/200, Loss: 0.9645\n"
     ]
    },
    {
     "name": "stderr",
     "output_type": "stream",
     "text": [
      "Training: 7318it [01:24, 86.16it/s]                          \n"
     ]
    },
    {
     "name": "stdout",
     "output_type": "stream",
     "text": [
      "Epoch 12/200, Loss: 0.9616\n"
     ]
    },
    {
     "name": "stderr",
     "output_type": "stream",
     "text": [
      "Training: 7318it [01:24, 86.29it/s]                          \n"
     ]
    },
    {
     "name": "stdout",
     "output_type": "stream",
     "text": [
      "Epoch 13/200, Loss: 0.9580\n"
     ]
    },
    {
     "name": "stderr",
     "output_type": "stream",
     "text": [
      "Training: 7318it [01:24, 86.71it/s]                          \n"
     ]
    },
    {
     "name": "stdout",
     "output_type": "stream",
     "text": [
      "Epoch 14/200, Loss: 0.9585\n"
     ]
    },
    {
     "name": "stderr",
     "output_type": "stream",
     "text": [
      "Training: 7318it [01:24, 86.50it/s]                          \n"
     ]
    },
    {
     "name": "stdout",
     "output_type": "stream",
     "text": [
      "Epoch 15/200, Loss: 0.9515\n"
     ]
    },
    {
     "name": "stderr",
     "output_type": "stream",
     "text": [
      "Training: 7318it [01:24, 86.48it/s]                          \n"
     ]
    },
    {
     "name": "stdout",
     "output_type": "stream",
     "text": [
      "Epoch 16/200, Loss: 0.9500\n"
     ]
    },
    {
     "name": "stderr",
     "output_type": "stream",
     "text": [
      "Training: 7318it [01:25, 85.74it/s]                          \n"
     ]
    },
    {
     "name": "stdout",
     "output_type": "stream",
     "text": [
      "Epoch 17/200, Loss: 0.9501\n"
     ]
    },
    {
     "name": "stderr",
     "output_type": "stream",
     "text": [
      "Training: 7318it [01:25, 86.07it/s]                          \n"
     ]
    },
    {
     "name": "stdout",
     "output_type": "stream",
     "text": [
      "Epoch 18/200, Loss: 0.9491\n"
     ]
    },
    {
     "name": "stderr",
     "output_type": "stream",
     "text": [
      "Training: 7318it [01:24, 86.50it/s]                          \n"
     ]
    },
    {
     "name": "stdout",
     "output_type": "stream",
     "text": [
      "Epoch 19/200, Loss: 0.9473\n"
     ]
    },
    {
     "name": "stderr",
     "output_type": "stream",
     "text": [
      "Training: 7318it [01:24, 86.53it/s]                          \n"
     ]
    },
    {
     "name": "stdout",
     "output_type": "stream",
     "text": [
      "Epoch 20/200, Loss: 0.9466\n"
     ]
    },
    {
     "name": "stderr",
     "output_type": "stream",
     "text": [
      "Training: 7318it [01:24, 86.68it/s]                          \n"
     ]
    },
    {
     "name": "stdout",
     "output_type": "stream",
     "text": [
      "Epoch 21/200, Loss: 0.9448\n"
     ]
    },
    {
     "name": "stderr",
     "output_type": "stream",
     "text": [
      "Training: 7318it [01:24, 86.25it/s]                          \n"
     ]
    },
    {
     "name": "stdout",
     "output_type": "stream",
     "text": [
      "Epoch 22/200, Loss: 0.9451\n"
     ]
    },
    {
     "name": "stderr",
     "output_type": "stream",
     "text": [
      "Training: 7318it [01:24, 86.47it/s]                          \n"
     ]
    },
    {
     "name": "stdout",
     "output_type": "stream",
     "text": [
      "Epoch 23/200, Loss: 0.9391\n"
     ]
    },
    {
     "name": "stderr",
     "output_type": "stream",
     "text": [
      "Training: 7318it [01:24, 86.15it/s]                          \n"
     ]
    },
    {
     "name": "stdout",
     "output_type": "stream",
     "text": [
      "Epoch 24/200, Loss: 0.9408\n"
     ]
    },
    {
     "name": "stderr",
     "output_type": "stream",
     "text": [
      "Training: 7318it [01:24, 86.23it/s]                          \n"
     ]
    },
    {
     "name": "stdout",
     "output_type": "stream",
     "text": [
      "Epoch 25/200, Loss: 0.9384\n"
     ]
    },
    {
     "name": "stderr",
     "output_type": "stream",
     "text": [
      "Training: 7318it [01:24, 86.59it/s]                          \n"
     ]
    },
    {
     "name": "stdout",
     "output_type": "stream",
     "text": [
      "Epoch 26/200, Loss: 0.9401\n"
     ]
    },
    {
     "name": "stderr",
     "output_type": "stream",
     "text": [
      "Training: 7318it [01:25, 85.72it/s]                          \n"
     ]
    },
    {
     "name": "stdout",
     "output_type": "stream",
     "text": [
      "Epoch 27/200, Loss: 0.9355\n"
     ]
    },
    {
     "name": "stderr",
     "output_type": "stream",
     "text": [
      "Training: 7318it [01:24, 86.72it/s]                          \n"
     ]
    },
    {
     "name": "stdout",
     "output_type": "stream",
     "text": [
      "Epoch 28/200, Loss: 0.9372\n"
     ]
    },
    {
     "name": "stderr",
     "output_type": "stream",
     "text": [
      "Training: 7318it [01:24, 86.20it/s]                          \n"
     ]
    },
    {
     "name": "stdout",
     "output_type": "stream",
     "text": [
      "Epoch 29/200, Loss: 0.9351\n"
     ]
    },
    {
     "name": "stderr",
     "output_type": "stream",
     "text": [
      "Training: 7318it [01:25, 85.98it/s]                          \n"
     ]
    },
    {
     "name": "stdout",
     "output_type": "stream",
     "text": [
      "Epoch 30/200, Loss: 0.9343\n"
     ]
    },
    {
     "name": "stderr",
     "output_type": "stream",
     "text": [
      "Training: 7318it [01:24, 86.11it/s]                          \n"
     ]
    },
    {
     "name": "stdout",
     "output_type": "stream",
     "text": [
      "Epoch 31/200, Loss: 0.9335\n"
     ]
    },
    {
     "name": "stderr",
     "output_type": "stream",
     "text": [
      "Training: 7318it [01:24, 86.55it/s]                          \n"
     ]
    },
    {
     "name": "stdout",
     "output_type": "stream",
     "text": [
      "Epoch 32/200, Loss: 0.9354\n"
     ]
    },
    {
     "name": "stderr",
     "output_type": "stream",
     "text": [
      "Training: 7318it [01:24, 86.82it/s]                          \n"
     ]
    },
    {
     "name": "stdout",
     "output_type": "stream",
     "text": [
      "Epoch 33/200, Loss: 0.9353\n"
     ]
    },
    {
     "name": "stderr",
     "output_type": "stream",
     "text": [
      "Training: 7318it [01:24, 86.73it/s]                          \n"
     ]
    },
    {
     "name": "stdout",
     "output_type": "stream",
     "text": [
      "Epoch 34/200, Loss: 0.9325\n"
     ]
    },
    {
     "name": "stderr",
     "output_type": "stream",
     "text": [
      "Training: 7318it [01:24, 86.19it/s]                          \n"
     ]
    },
    {
     "name": "stdout",
     "output_type": "stream",
     "text": [
      "Epoch 35/200, Loss: 0.9316\n"
     ]
    },
    {
     "name": "stderr",
     "output_type": "stream",
     "text": [
      "Training: 7318it [01:24, 86.35it/s]                          \n"
     ]
    },
    {
     "name": "stdout",
     "output_type": "stream",
     "text": [
      "Epoch 36/200, Loss: 0.9320\n"
     ]
    },
    {
     "name": "stderr",
     "output_type": "stream",
     "text": [
      "Training: 7318it [01:24, 87.05it/s]                          \n"
     ]
    },
    {
     "name": "stdout",
     "output_type": "stream",
     "text": [
      "Epoch 37/200, Loss: 0.9333\n"
     ]
    },
    {
     "name": "stderr",
     "output_type": "stream",
     "text": [
      "Training: 7318it [01:24, 86.17it/s]                          \n"
     ]
    },
    {
     "name": "stdout",
     "output_type": "stream",
     "text": [
      "Epoch 38/200, Loss: 0.9296\n"
     ]
    },
    {
     "name": "stderr",
     "output_type": "stream",
     "text": [
      "Training: 7318it [01:24, 86.11it/s]                          \n"
     ]
    },
    {
     "name": "stdout",
     "output_type": "stream",
     "text": [
      "Epoch 39/200, Loss: 0.9296\n"
     ]
    },
    {
     "name": "stderr",
     "output_type": "stream",
     "text": [
      "Training: 7318it [01:24, 86.22it/s]                          \n"
     ]
    },
    {
     "name": "stdout",
     "output_type": "stream",
     "text": [
      "Epoch 40/200, Loss: 0.9280\n"
     ]
    },
    {
     "name": "stderr",
     "output_type": "stream",
     "text": [
      "Training: 7318it [01:24, 86.66it/s]                          \n"
     ]
    },
    {
     "name": "stdout",
     "output_type": "stream",
     "text": [
      "Epoch 41/200, Loss: 0.9309\n"
     ]
    },
    {
     "name": "stderr",
     "output_type": "stream",
     "text": [
      "Training: 7318it [01:24, 86.75it/s]                          \n"
     ]
    },
    {
     "name": "stdout",
     "output_type": "stream",
     "text": [
      "Epoch 42/200, Loss: 0.9292\n"
     ]
    },
    {
     "name": "stderr",
     "output_type": "stream",
     "text": [
      "Training: 7318it [01:24, 86.12it/s]                          \n"
     ]
    },
    {
     "name": "stdout",
     "output_type": "stream",
     "text": [
      "Epoch 43/200, Loss: 0.9283\n"
     ]
    },
    {
     "name": "stderr",
     "output_type": "stream",
     "text": [
      "Training: 7318it [01:25, 85.67it/s]                          \n"
     ]
    },
    {
     "name": "stdout",
     "output_type": "stream",
     "text": [
      "Epoch 44/200, Loss: 0.9293\n"
     ]
    },
    {
     "name": "stderr",
     "output_type": "stream",
     "text": [
      "Training: 7318it [01:24, 86.16it/s]                          \n"
     ]
    },
    {
     "name": "stdout",
     "output_type": "stream",
     "text": [
      "Epoch 45/200, Loss: 0.9266\n"
     ]
    },
    {
     "name": "stderr",
     "output_type": "stream",
     "text": [
      "Training: 7318it [01:24, 86.38it/s]                          \n"
     ]
    },
    {
     "name": "stdout",
     "output_type": "stream",
     "text": [
      "Epoch 46/200, Loss: 0.9242\n"
     ]
    },
    {
     "name": "stderr",
     "output_type": "stream",
     "text": [
      "Training: 7318it [01:24, 86.20it/s]                          \n"
     ]
    },
    {
     "name": "stdout",
     "output_type": "stream",
     "text": [
      "Epoch 47/200, Loss: 0.9256\n"
     ]
    },
    {
     "name": "stderr",
     "output_type": "stream",
     "text": [
      "Training: 7318it [01:24, 86.20it/s]                          \n"
     ]
    },
    {
     "name": "stdout",
     "output_type": "stream",
     "text": [
      "Epoch 48/200, Loss: 0.9286\n"
     ]
    },
    {
     "name": "stderr",
     "output_type": "stream",
     "text": [
      "Training: 7318it [01:24, 86.77it/s]                          \n"
     ]
    },
    {
     "name": "stdout",
     "output_type": "stream",
     "text": [
      "Epoch 49/200, Loss: 0.9282\n"
     ]
    },
    {
     "name": "stderr",
     "output_type": "stream",
     "text": [
      "Training: 7318it [01:24, 86.27it/s]                          \n"
     ]
    },
    {
     "name": "stdout",
     "output_type": "stream",
     "text": [
      "Epoch 50/200, Loss: 0.9254\n"
     ]
    },
    {
     "name": "stderr",
     "output_type": "stream",
     "text": [
      "Training: 7318it [01:24, 86.40it/s]                          \n"
     ]
    },
    {
     "name": "stdout",
     "output_type": "stream",
     "text": [
      "Epoch 51/200, Loss: 0.9235\n"
     ]
    },
    {
     "name": "stderr",
     "output_type": "stream",
     "text": [
      "Training: 7318it [01:24, 86.41it/s]                          \n"
     ]
    },
    {
     "name": "stdout",
     "output_type": "stream",
     "text": [
      "Epoch 52/200, Loss: 0.9268\n"
     ]
    },
    {
     "name": "stderr",
     "output_type": "stream",
     "text": [
      "Training: 7318it [01:25, 85.65it/s]                          \n"
     ]
    },
    {
     "name": "stdout",
     "output_type": "stream",
     "text": [
      "Epoch 53/200, Loss: 0.9222\n"
     ]
    },
    {
     "name": "stderr",
     "output_type": "stream",
     "text": [
      "Training: 7318it [01:25, 85.98it/s]                          \n"
     ]
    },
    {
     "name": "stdout",
     "output_type": "stream",
     "text": [
      "Epoch 54/200, Loss: 0.9240\n"
     ]
    },
    {
     "name": "stderr",
     "output_type": "stream",
     "text": [
      "Training: 7318it [01:24, 86.52it/s]                          \n"
     ]
    },
    {
     "name": "stdout",
     "output_type": "stream",
     "text": [
      "Epoch 55/200, Loss: 0.9232\n"
     ]
    },
    {
     "name": "stderr",
     "output_type": "stream",
     "text": [
      "Training: 7318it [01:25, 86.03it/s]                          \n"
     ]
    },
    {
     "name": "stdout",
     "output_type": "stream",
     "text": [
      "Epoch 56/200, Loss: 0.9247\n"
     ]
    },
    {
     "name": "stderr",
     "output_type": "stream",
     "text": [
      "Training: 7318it [01:24, 86.31it/s]                          \n"
     ]
    },
    {
     "name": "stdout",
     "output_type": "stream",
     "text": [
      "Epoch 57/200, Loss: 0.9225\n"
     ]
    },
    {
     "name": "stderr",
     "output_type": "stream",
     "text": [
      "Training: 7318it [01:25, 85.94it/s]                          \n"
     ]
    },
    {
     "name": "stdout",
     "output_type": "stream",
     "text": [
      "Epoch 58/200, Loss: 0.9222\n"
     ]
    },
    {
     "name": "stderr",
     "output_type": "stream",
     "text": [
      "Training: 7318it [01:24, 86.24it/s]                          \n"
     ]
    },
    {
     "name": "stdout",
     "output_type": "stream",
     "text": [
      "Epoch 59/200, Loss: 0.9239\n"
     ]
    },
    {
     "name": "stderr",
     "output_type": "stream",
     "text": [
      "Training: 7318it [01:25, 85.84it/s]                          \n"
     ]
    },
    {
     "name": "stdout",
     "output_type": "stream",
     "text": [
      "Epoch 60/200, Loss: 0.9199\n"
     ]
    },
    {
     "name": "stderr",
     "output_type": "stream",
     "text": [
      "Training: 7318it [01:24, 86.26it/s]                          \n"
     ]
    },
    {
     "name": "stdout",
     "output_type": "stream",
     "text": [
      "Epoch 61/200, Loss: 0.9203\n"
     ]
    },
    {
     "name": "stderr",
     "output_type": "stream",
     "text": [
      "Training: 7318it [01:24, 86.48it/s]                          \n"
     ]
    },
    {
     "name": "stdout",
     "output_type": "stream",
     "text": [
      "Epoch 62/200, Loss: 0.9217\n"
     ]
    },
    {
     "name": "stderr",
     "output_type": "stream",
     "text": [
      "Training: 7318it [01:24, 86.56it/s]                          \n"
     ]
    },
    {
     "name": "stdout",
     "output_type": "stream",
     "text": [
      "Epoch 63/200, Loss: 0.9221\n"
     ]
    },
    {
     "name": "stderr",
     "output_type": "stream",
     "text": [
      "Training: 7318it [01:24, 86.85it/s]                          \n"
     ]
    },
    {
     "name": "stdout",
     "output_type": "stream",
     "text": [
      "Epoch 64/200, Loss: 0.9192\n"
     ]
    },
    {
     "name": "stderr",
     "output_type": "stream",
     "text": [
      "Training: 7318it [01:23, 87.18it/s]                          \n"
     ]
    },
    {
     "name": "stdout",
     "output_type": "stream",
     "text": [
      "Epoch 65/200, Loss: 0.9218\n"
     ]
    },
    {
     "name": "stderr",
     "output_type": "stream",
     "text": [
      "Training: 7318it [01:25, 85.90it/s]                          \n"
     ]
    },
    {
     "name": "stdout",
     "output_type": "stream",
     "text": [
      "Epoch 66/200, Loss: 0.9211\n"
     ]
    },
    {
     "name": "stderr",
     "output_type": "stream",
     "text": [
      "Training: 7318it [01:24, 86.36it/s]                          \n"
     ]
    },
    {
     "name": "stdout",
     "output_type": "stream",
     "text": [
      "Epoch 67/200, Loss: 0.9201\n"
     ]
    },
    {
     "name": "stderr",
     "output_type": "stream",
     "text": [
      "Training: 7318it [01:25, 85.98it/s]                          \n"
     ]
    },
    {
     "name": "stdout",
     "output_type": "stream",
     "text": [
      "Epoch 68/200, Loss: 0.9211\n"
     ]
    },
    {
     "name": "stderr",
     "output_type": "stream",
     "text": [
      "Training: 7318it [01:24, 86.10it/s]                          \n"
     ]
    },
    {
     "name": "stdout",
     "output_type": "stream",
     "text": [
      "Epoch 69/200, Loss: 0.9209\n"
     ]
    },
    {
     "name": "stderr",
     "output_type": "stream",
     "text": [
      "Training: 7318it [01:25, 86.00it/s]                          \n"
     ]
    },
    {
     "name": "stdout",
     "output_type": "stream",
     "text": [
      "Epoch 70/200, Loss: 0.9176\n"
     ]
    },
    {
     "name": "stderr",
     "output_type": "stream",
     "text": [
      "Training: 7318it [01:24, 86.70it/s]                          \n"
     ]
    },
    {
     "name": "stdout",
     "output_type": "stream",
     "text": [
      "Epoch 71/200, Loss: 0.9209\n"
     ]
    },
    {
     "name": "stderr",
     "output_type": "stream",
     "text": [
      "Training: 7318it [01:24, 86.67it/s]                          \n"
     ]
    },
    {
     "name": "stdout",
     "output_type": "stream",
     "text": [
      "Epoch 72/200, Loss: 0.9183\n"
     ]
    },
    {
     "name": "stderr",
     "output_type": "stream",
     "text": [
      "Training: 7318it [01:24, 86.43it/s]                          \n"
     ]
    },
    {
     "name": "stdout",
     "output_type": "stream",
     "text": [
      "Epoch 73/200, Loss: 0.9184\n"
     ]
    },
    {
     "name": "stderr",
     "output_type": "stream",
     "text": [
      "Training: 7318it [01:25, 86.07it/s]                          \n"
     ]
    },
    {
     "name": "stdout",
     "output_type": "stream",
     "text": [
      "Epoch 74/200, Loss: 0.9185\n"
     ]
    },
    {
     "name": "stderr",
     "output_type": "stream",
     "text": [
      "Training: 7318it [01:24, 86.96it/s]                          \n"
     ]
    },
    {
     "name": "stdout",
     "output_type": "stream",
     "text": [
      "Epoch 75/200, Loss: 0.9188\n"
     ]
    },
    {
     "name": "stderr",
     "output_type": "stream",
     "text": [
      "Training: 7318it [01:24, 86.51it/s]                          \n"
     ]
    },
    {
     "name": "stdout",
     "output_type": "stream",
     "text": [
      "Epoch 76/200, Loss: 0.9178\n"
     ]
    },
    {
     "name": "stderr",
     "output_type": "stream",
     "text": [
      "Training: 7318it [01:24, 86.58it/s]                          \n"
     ]
    },
    {
     "name": "stdout",
     "output_type": "stream",
     "text": [
      "Epoch 77/200, Loss: 0.9203\n"
     ]
    },
    {
     "name": "stderr",
     "output_type": "stream",
     "text": [
      "Training: 7318it [01:24, 86.26it/s]                          \n"
     ]
    },
    {
     "name": "stdout",
     "output_type": "stream",
     "text": [
      "Epoch 78/200, Loss: 0.9179\n"
     ]
    },
    {
     "name": "stderr",
     "output_type": "stream",
     "text": [
      "Training: 7318it [01:24, 86.65it/s]                          \n"
     ]
    },
    {
     "name": "stdout",
     "output_type": "stream",
     "text": [
      "Epoch 79/200, Loss: 0.9170\n"
     ]
    },
    {
     "name": "stderr",
     "output_type": "stream",
     "text": [
      "Training: 7318it [01:25, 85.66it/s]                          \n"
     ]
    },
    {
     "name": "stdout",
     "output_type": "stream",
     "text": [
      "Epoch 80/200, Loss: 0.9173\n"
     ]
    },
    {
     "name": "stderr",
     "output_type": "stream",
     "text": [
      "Training: 7318it [01:25, 85.80it/s]                          \n"
     ]
    },
    {
     "name": "stdout",
     "output_type": "stream",
     "text": [
      "Epoch 81/200, Loss: 0.9144\n"
     ]
    },
    {
     "name": "stderr",
     "output_type": "stream",
     "text": [
      "Training: 7318it [01:24, 86.42it/s]                          \n"
     ]
    },
    {
     "name": "stdout",
     "output_type": "stream",
     "text": [
      "Epoch 82/200, Loss: 0.9161\n"
     ]
    },
    {
     "name": "stderr",
     "output_type": "stream",
     "text": [
      "Training: 7318it [01:25, 86.04it/s]                          \n"
     ]
    },
    {
     "name": "stdout",
     "output_type": "stream",
     "text": [
      "Epoch 83/200, Loss: 0.9151\n"
     ]
    },
    {
     "name": "stderr",
     "output_type": "stream",
     "text": [
      "Training: 7318it [01:24, 86.26it/s]                          \n"
     ]
    },
    {
     "name": "stdout",
     "output_type": "stream",
     "text": [
      "Epoch 84/200, Loss: 0.9168\n"
     ]
    },
    {
     "name": "stderr",
     "output_type": "stream",
     "text": [
      "Training: 7318it [01:25, 85.75it/s]                          \n"
     ]
    },
    {
     "name": "stdout",
     "output_type": "stream",
     "text": [
      "Epoch 85/200, Loss: 0.9150\n"
     ]
    },
    {
     "name": "stderr",
     "output_type": "stream",
     "text": [
      "Training: 7318it [01:24, 86.64it/s]                          \n"
     ]
    },
    {
     "name": "stdout",
     "output_type": "stream",
     "text": [
      "Epoch 86/200, Loss: 0.9148\n"
     ]
    },
    {
     "name": "stderr",
     "output_type": "stream",
     "text": [
      "Training: 7318it [01:25, 86.09it/s]                          \n"
     ]
    },
    {
     "name": "stdout",
     "output_type": "stream",
     "text": [
      "Epoch 87/200, Loss: 0.9136\n"
     ]
    },
    {
     "name": "stderr",
     "output_type": "stream",
     "text": [
      "Training: 7318it [01:25, 85.88it/s]                          \n"
     ]
    },
    {
     "name": "stdout",
     "output_type": "stream",
     "text": [
      "Epoch 88/200, Loss: 0.9147\n"
     ]
    },
    {
     "name": "stderr",
     "output_type": "stream",
     "text": [
      "Training: 7318it [01:24, 86.42it/s]                          \n"
     ]
    },
    {
     "name": "stdout",
     "output_type": "stream",
     "text": [
      "Epoch 89/200, Loss: 0.9130\n"
     ]
    },
    {
     "name": "stderr",
     "output_type": "stream",
     "text": [
      "Training: 7318it [01:24, 86.74it/s]                          \n"
     ]
    },
    {
     "name": "stdout",
     "output_type": "stream",
     "text": [
      "Epoch 90/200, Loss: 0.9121\n"
     ]
    },
    {
     "name": "stderr",
     "output_type": "stream",
     "text": [
      "Training: 7318it [01:24, 86.94it/s]                          \n"
     ]
    },
    {
     "name": "stdout",
     "output_type": "stream",
     "text": [
      "Epoch 91/200, Loss: 0.9122\n"
     ]
    },
    {
     "name": "stderr",
     "output_type": "stream",
     "text": [
      "Training: 7318it [01:24, 86.83it/s]                          \n"
     ]
    },
    {
     "name": "stdout",
     "output_type": "stream",
     "text": [
      "Epoch 92/200, Loss: 0.9122\n"
     ]
    },
    {
     "name": "stderr",
     "output_type": "stream",
     "text": [
      "Training: 7318it [01:24, 86.93it/s]                          \n"
     ]
    },
    {
     "name": "stdout",
     "output_type": "stream",
     "text": [
      "Epoch 93/200, Loss: 0.9105\n"
     ]
    },
    {
     "name": "stderr",
     "output_type": "stream",
     "text": [
      "Training: 7318it [01:24, 86.37it/s]                          \n"
     ]
    },
    {
     "name": "stdout",
     "output_type": "stream",
     "text": [
      "Epoch 94/200, Loss: 0.9120\n"
     ]
    },
    {
     "name": "stderr",
     "output_type": "stream",
     "text": [
      "Training: 7318it [01:24, 86.34it/s]                          \n"
     ]
    },
    {
     "name": "stdout",
     "output_type": "stream",
     "text": [
      "Epoch 95/200, Loss: 0.9097\n"
     ]
    },
    {
     "name": "stderr",
     "output_type": "stream",
     "text": [
      "Training: 7318it [01:24, 86.27it/s]                          \n"
     ]
    },
    {
     "name": "stdout",
     "output_type": "stream",
     "text": [
      "Epoch 96/200, Loss: 0.9100\n"
     ]
    },
    {
     "name": "stderr",
     "output_type": "stream",
     "text": [
      "Training: 7318it [01:24, 86.98it/s]                          \n"
     ]
    },
    {
     "name": "stdout",
     "output_type": "stream",
     "text": [
      "Epoch 97/200, Loss: 0.9089\n"
     ]
    },
    {
     "name": "stderr",
     "output_type": "stream",
     "text": [
      "Training: 7318it [01:24, 86.60it/s]                          \n"
     ]
    },
    {
     "name": "stdout",
     "output_type": "stream",
     "text": [
      "Epoch 98/200, Loss: 0.9089\n"
     ]
    },
    {
     "name": "stderr",
     "output_type": "stream",
     "text": [
      "Training: 7318it [01:24, 86.73it/s]                          \n"
     ]
    },
    {
     "name": "stdout",
     "output_type": "stream",
     "text": [
      "Epoch 99/200, Loss: 0.9084\n"
     ]
    },
    {
     "name": "stderr",
     "output_type": "stream",
     "text": [
      "Training: 7318it [01:24, 87.06it/s]                          \n"
     ]
    },
    {
     "name": "stdout",
     "output_type": "stream",
     "text": [
      "Epoch 100/200, Loss: 0.9077\n"
     ]
    },
    {
     "name": "stderr",
     "output_type": "stream",
     "text": [
      "Training: 7318it [01:24, 86.63it/s]                          \n"
     ]
    },
    {
     "name": "stdout",
     "output_type": "stream",
     "text": [
      "Epoch 101/200, Loss: 0.9070\n"
     ]
    },
    {
     "name": "stderr",
     "output_type": "stream",
     "text": [
      "Training: 7318it [01:24, 86.68it/s]                          \n"
     ]
    },
    {
     "name": "stdout",
     "output_type": "stream",
     "text": [
      "Epoch 102/200, Loss: 0.9059\n"
     ]
    },
    {
     "name": "stderr",
     "output_type": "stream",
     "text": [
      "Training: 7318it [01:25, 85.60it/s]                          \n"
     ]
    },
    {
     "name": "stdout",
     "output_type": "stream",
     "text": [
      "Epoch 103/200, Loss: 0.9051\n"
     ]
    },
    {
     "name": "stderr",
     "output_type": "stream",
     "text": [
      "Training: 7318it [01:25, 85.98it/s]                          \n"
     ]
    },
    {
     "name": "stdout",
     "output_type": "stream",
     "text": [
      "Epoch 104/200, Loss: 0.9067\n"
     ]
    },
    {
     "name": "stderr",
     "output_type": "stream",
     "text": [
      "Training: 7318it [01:24, 86.37it/s]                          \n"
     ]
    },
    {
     "name": "stdout",
     "output_type": "stream",
     "text": [
      "Epoch 105/200, Loss: 0.9051\n"
     ]
    },
    {
     "name": "stderr",
     "output_type": "stream",
     "text": [
      "Training: 7318it [01:24, 86.88it/s]                          \n"
     ]
    },
    {
     "name": "stdout",
     "output_type": "stream",
     "text": [
      "Epoch 106/200, Loss: 0.9052\n"
     ]
    },
    {
     "name": "stderr",
     "output_type": "stream",
     "text": [
      "Training: 7318it [01:24, 86.76it/s]                          \n"
     ]
    },
    {
     "name": "stdout",
     "output_type": "stream",
     "text": [
      "Epoch 107/200, Loss: 0.9051\n"
     ]
    },
    {
     "name": "stderr",
     "output_type": "stream",
     "text": [
      "Training: 7318it [01:24, 86.96it/s]                          \n"
     ]
    },
    {
     "name": "stdout",
     "output_type": "stream",
     "text": [
      "Epoch 108/200, Loss: 0.9037\n"
     ]
    },
    {
     "name": "stderr",
     "output_type": "stream",
     "text": [
      "Training: 7318it [01:25, 85.90it/s]                          \n"
     ]
    },
    {
     "name": "stdout",
     "output_type": "stream",
     "text": [
      "Epoch 109/200, Loss: 0.9030\n"
     ]
    },
    {
     "name": "stderr",
     "output_type": "stream",
     "text": [
      "Training: 7318it [01:24, 86.28it/s]                          \n"
     ]
    },
    {
     "name": "stdout",
     "output_type": "stream",
     "text": [
      "Epoch 110/200, Loss: 0.9026\n"
     ]
    },
    {
     "name": "stderr",
     "output_type": "stream",
     "text": [
      "Training: 7318it [01:24, 86.49it/s]                          \n"
     ]
    },
    {
     "name": "stdout",
     "output_type": "stream",
     "text": [
      "Epoch 111/200, Loss: 0.9010\n"
     ]
    },
    {
     "name": "stderr",
     "output_type": "stream",
     "text": [
      "Training: 7318it [01:24, 86.52it/s]                          \n"
     ]
    },
    {
     "name": "stdout",
     "output_type": "stream",
     "text": [
      "Epoch 112/200, Loss: 0.9011\n"
     ]
    },
    {
     "name": "stderr",
     "output_type": "stream",
     "text": [
      "Training: 7318it [01:24, 86.28it/s]                          \n"
     ]
    },
    {
     "name": "stdout",
     "output_type": "stream",
     "text": [
      "Epoch 113/200, Loss: 0.9019\n"
     ]
    },
    {
     "name": "stderr",
     "output_type": "stream",
     "text": [
      "Training: 7318it [01:24, 86.73it/s]                          \n"
     ]
    },
    {
     "name": "stdout",
     "output_type": "stream",
     "text": [
      "Epoch 114/200, Loss: 0.9027\n"
     ]
    },
    {
     "name": "stderr",
     "output_type": "stream",
     "text": [
      "Training: 7318it [01:24, 86.10it/s]                          \n"
     ]
    },
    {
     "name": "stdout",
     "output_type": "stream",
     "text": [
      "Epoch 115/200, Loss: 0.9003\n"
     ]
    },
    {
     "name": "stderr",
     "output_type": "stream",
     "text": [
      "Training: 7318it [01:24, 86.90it/s]                          \n"
     ]
    },
    {
     "name": "stdout",
     "output_type": "stream",
     "text": [
      "Epoch 116/200, Loss: 0.9009\n"
     ]
    },
    {
     "name": "stderr",
     "output_type": "stream",
     "text": [
      "Training: 7318it [01:24, 86.63it/s]                          \n"
     ]
    },
    {
     "name": "stdout",
     "output_type": "stream",
     "text": [
      "Epoch 117/200, Loss: 0.9017\n"
     ]
    },
    {
     "name": "stderr",
     "output_type": "stream",
     "text": [
      "Training: 7318it [01:24, 86.61it/s]                          \n"
     ]
    },
    {
     "name": "stdout",
     "output_type": "stream",
     "text": [
      "Epoch 118/200, Loss: 0.9001\n"
     ]
    },
    {
     "name": "stderr",
     "output_type": "stream",
     "text": [
      "Training: 7318it [01:25, 85.79it/s]                          \n"
     ]
    },
    {
     "name": "stdout",
     "output_type": "stream",
     "text": [
      "Epoch 119/200, Loss: 0.8980\n"
     ]
    },
    {
     "name": "stderr",
     "output_type": "stream",
     "text": [
      "Training: 7318it [01:25, 85.38it/s]                          \n"
     ]
    },
    {
     "name": "stdout",
     "output_type": "stream",
     "text": [
      "Epoch 120/200, Loss: 0.8993\n"
     ]
    },
    {
     "name": "stderr",
     "output_type": "stream",
     "text": [
      "Training: 7318it [01:24, 86.90it/s]                          \n"
     ]
    },
    {
     "name": "stdout",
     "output_type": "stream",
     "text": [
      "Epoch 121/200, Loss: 0.8994\n"
     ]
    },
    {
     "name": "stderr",
     "output_type": "stream",
     "text": [
      "Training: 7318it [01:25, 86.09it/s]                          \n"
     ]
    },
    {
     "name": "stdout",
     "output_type": "stream",
     "text": [
      "Epoch 122/200, Loss: 0.9000\n"
     ]
    },
    {
     "name": "stderr",
     "output_type": "stream",
     "text": [
      "Training: 7318it [01:24, 86.38it/s]                          \n"
     ]
    },
    {
     "name": "stdout",
     "output_type": "stream",
     "text": [
      "Epoch 123/200, Loss: 0.8964\n"
     ]
    },
    {
     "name": "stderr",
     "output_type": "stream",
     "text": [
      "Training: 7318it [01:23, 87.18it/s]                          \n"
     ]
    },
    {
     "name": "stdout",
     "output_type": "stream",
     "text": [
      "Epoch 124/200, Loss: 0.8995\n"
     ]
    },
    {
     "name": "stderr",
     "output_type": "stream",
     "text": [
      "Training: 7318it [01:24, 86.83it/s]                          \n"
     ]
    },
    {
     "name": "stdout",
     "output_type": "stream",
     "text": [
      "Epoch 125/200, Loss: 0.8960\n"
     ]
    },
    {
     "name": "stderr",
     "output_type": "stream",
     "text": [
      "Training: 7318it [01:24, 86.76it/s]                          \n"
     ]
    },
    {
     "name": "stdout",
     "output_type": "stream",
     "text": [
      "Epoch 126/200, Loss: 0.8959\n"
     ]
    },
    {
     "name": "stderr",
     "output_type": "stream",
     "text": [
      "Training: 7318it [01:24, 86.72it/s]                          \n"
     ]
    },
    {
     "name": "stdout",
     "output_type": "stream",
     "text": [
      "Epoch 127/200, Loss: 0.8954\n"
     ]
    },
    {
     "name": "stderr",
     "output_type": "stream",
     "text": [
      "Training: 7318it [01:24, 86.66it/s]                          \n"
     ]
    },
    {
     "name": "stdout",
     "output_type": "stream",
     "text": [
      "Epoch 128/200, Loss: 0.8940\n"
     ]
    },
    {
     "name": "stderr",
     "output_type": "stream",
     "text": [
      "Training: 7318it [01:24, 86.73it/s]                          \n"
     ]
    },
    {
     "name": "stdout",
     "output_type": "stream",
     "text": [
      "Epoch 129/200, Loss: 0.8955\n"
     ]
    },
    {
     "name": "stderr",
     "output_type": "stream",
     "text": [
      "Training: 7318it [01:24, 86.18it/s]                          \n"
     ]
    },
    {
     "name": "stdout",
     "output_type": "stream",
     "text": [
      "Epoch 130/200, Loss: 0.8950\n"
     ]
    },
    {
     "name": "stderr",
     "output_type": "stream",
     "text": [
      "Training: 7318it [01:24, 86.92it/s]                          \n"
     ]
    },
    {
     "name": "stdout",
     "output_type": "stream",
     "text": [
      "Epoch 131/200, Loss: 0.8960\n"
     ]
    },
    {
     "name": "stderr",
     "output_type": "stream",
     "text": [
      "Training: 7318it [01:24, 86.67it/s]                          \n"
     ]
    },
    {
     "name": "stdout",
     "output_type": "stream",
     "text": [
      "Epoch 132/200, Loss: 0.8942\n"
     ]
    },
    {
     "name": "stderr",
     "output_type": "stream",
     "text": [
      "Training: 7318it [01:24, 86.28it/s]                          \n"
     ]
    },
    {
     "name": "stdout",
     "output_type": "stream",
     "text": [
      "Epoch 133/200, Loss: 0.8920\n"
     ]
    },
    {
     "name": "stderr",
     "output_type": "stream",
     "text": [
      "Training: 7318it [01:24, 86.90it/s]                          \n"
     ]
    },
    {
     "name": "stdout",
     "output_type": "stream",
     "text": [
      "Epoch 134/200, Loss: 0.8955\n"
     ]
    },
    {
     "name": "stderr",
     "output_type": "stream",
     "text": [
      "Training: 7318it [01:23, 87.31it/s]                          \n"
     ]
    },
    {
     "name": "stdout",
     "output_type": "stream",
     "text": [
      "Epoch 135/200, Loss: 0.8942\n"
     ]
    },
    {
     "name": "stderr",
     "output_type": "stream",
     "text": [
      "Training: 7318it [01:25, 86.01it/s]                          \n"
     ]
    },
    {
     "name": "stdout",
     "output_type": "stream",
     "text": [
      "Epoch 136/200, Loss: 0.8940\n"
     ]
    },
    {
     "name": "stderr",
     "output_type": "stream",
     "text": [
      "Training: 7318it [01:24, 86.76it/s]                          \n"
     ]
    },
    {
     "name": "stdout",
     "output_type": "stream",
     "text": [
      "Epoch 137/200, Loss: 0.8919\n"
     ]
    },
    {
     "name": "stderr",
     "output_type": "stream",
     "text": [
      "Training: 7318it [01:24, 86.50it/s]                          \n"
     ]
    },
    {
     "name": "stdout",
     "output_type": "stream",
     "text": [
      "Epoch 138/200, Loss: 0.8910\n"
     ]
    },
    {
     "name": "stderr",
     "output_type": "stream",
     "text": [
      "Training: 7318it [01:24, 86.78it/s]                          \n"
     ]
    },
    {
     "name": "stdout",
     "output_type": "stream",
     "text": [
      "Epoch 139/200, Loss: 0.8909\n"
     ]
    },
    {
     "name": "stderr",
     "output_type": "stream",
     "text": [
      "Training: 7318it [01:24, 86.77it/s]                          \n"
     ]
    },
    {
     "name": "stdout",
     "output_type": "stream",
     "text": [
      "Epoch 140/200, Loss: 0.8919\n"
     ]
    },
    {
     "name": "stderr",
     "output_type": "stream",
     "text": [
      "Training: 7318it [01:24, 86.60it/s]                          \n"
     ]
    },
    {
     "name": "stdout",
     "output_type": "stream",
     "text": [
      "Epoch 141/200, Loss: 0.8921\n"
     ]
    },
    {
     "name": "stderr",
     "output_type": "stream",
     "text": [
      "Training: 7318it [01:25, 85.96it/s]                          \n"
     ]
    },
    {
     "name": "stdout",
     "output_type": "stream",
     "text": [
      "Epoch 142/200, Loss: 0.8911\n"
     ]
    },
    {
     "name": "stderr",
     "output_type": "stream",
     "text": [
      "Training: 7318it [01:24, 86.52it/s]                          \n"
     ]
    },
    {
     "name": "stdout",
     "output_type": "stream",
     "text": [
      "Epoch 143/200, Loss: 0.8881\n"
     ]
    },
    {
     "name": "stderr",
     "output_type": "stream",
     "text": [
      "Training: 7318it [01:25, 85.85it/s]                          \n"
     ]
    },
    {
     "name": "stdout",
     "output_type": "stream",
     "text": [
      "Epoch 144/200, Loss: 0.8882\n"
     ]
    },
    {
     "name": "stderr",
     "output_type": "stream",
     "text": [
      "Training: 7318it [01:24, 86.34it/s]                          \n"
     ]
    },
    {
     "name": "stdout",
     "output_type": "stream",
     "text": [
      "Epoch 145/200, Loss: 0.8876\n"
     ]
    },
    {
     "name": "stderr",
     "output_type": "stream",
     "text": [
      "Training: 7318it [01:24, 86.69it/s]                          \n"
     ]
    },
    {
     "name": "stdout",
     "output_type": "stream",
     "text": [
      "Epoch 146/200, Loss: 0.8894\n"
     ]
    },
    {
     "name": "stderr",
     "output_type": "stream",
     "text": [
      "Training: 7318it [01:24, 86.43it/s]                          \n"
     ]
    },
    {
     "name": "stdout",
     "output_type": "stream",
     "text": [
      "Epoch 147/200, Loss: 0.8873\n"
     ]
    },
    {
     "name": "stderr",
     "output_type": "stream",
     "text": [
      "Training: 7318it [01:24, 86.63it/s]                          \n"
     ]
    },
    {
     "name": "stdout",
     "output_type": "stream",
     "text": [
      "Epoch 148/200, Loss: 0.8857\n"
     ]
    },
    {
     "name": "stderr",
     "output_type": "stream",
     "text": [
      "Training: 7318it [01:24, 86.56it/s]                          \n"
     ]
    },
    {
     "name": "stdout",
     "output_type": "stream",
     "text": [
      "Epoch 149/200, Loss: 0.8867\n"
     ]
    },
    {
     "name": "stderr",
     "output_type": "stream",
     "text": [
      "Training: 7318it [01:25, 86.02it/s]                          \n"
     ]
    },
    {
     "name": "stdout",
     "output_type": "stream",
     "text": [
      "Epoch 150/200, Loss: 0.8866\n"
     ]
    },
    {
     "name": "stderr",
     "output_type": "stream",
     "text": [
      "Training: 7318it [01:25, 86.02it/s]                          \n"
     ]
    },
    {
     "name": "stdout",
     "output_type": "stream",
     "text": [
      "Epoch 151/200, Loss: 0.8867\n"
     ]
    },
    {
     "name": "stderr",
     "output_type": "stream",
     "text": [
      "Training: 7318it [01:24, 86.79it/s]                          \n"
     ]
    },
    {
     "name": "stdout",
     "output_type": "stream",
     "text": [
      "Epoch 152/200, Loss: 0.8884\n"
     ]
    },
    {
     "name": "stderr",
     "output_type": "stream",
     "text": [
      "Training: 7318it [01:25, 86.04it/s]                          \n"
     ]
    },
    {
     "name": "stdout",
     "output_type": "stream",
     "text": [
      "Epoch 153/200, Loss: 0.8868\n"
     ]
    },
    {
     "name": "stderr",
     "output_type": "stream",
     "text": [
      "Training: 7318it [01:24, 86.83it/s]                          \n"
     ]
    },
    {
     "name": "stdout",
     "output_type": "stream",
     "text": [
      "Epoch 154/200, Loss: 0.8829\n"
     ]
    },
    {
     "name": "stderr",
     "output_type": "stream",
     "text": [
      "Training: 7318it [01:24, 86.20it/s]                          \n"
     ]
    },
    {
     "name": "stdout",
     "output_type": "stream",
     "text": [
      "Epoch 155/200, Loss: 0.8856\n"
     ]
    },
    {
     "name": "stderr",
     "output_type": "stream",
     "text": [
      "Training: 7318it [01:24, 86.24it/s]                          \n"
     ]
    },
    {
     "name": "stdout",
     "output_type": "stream",
     "text": [
      "Epoch 156/200, Loss: 0.8848\n"
     ]
    },
    {
     "name": "stderr",
     "output_type": "stream",
     "text": [
      "Training: 7318it [01:24, 86.18it/s]                          \n"
     ]
    },
    {
     "name": "stdout",
     "output_type": "stream",
     "text": [
      "Epoch 157/200, Loss: 0.8831\n"
     ]
    },
    {
     "name": "stderr",
     "output_type": "stream",
     "text": [
      "Training: 7318it [01:24, 86.74it/s]                          \n"
     ]
    },
    {
     "name": "stdout",
     "output_type": "stream",
     "text": [
      "Epoch 158/200, Loss: 0.8831\n"
     ]
    },
    {
     "name": "stderr",
     "output_type": "stream",
     "text": [
      "Training: 7318it [01:25, 85.89it/s]                          \n"
     ]
    },
    {
     "name": "stdout",
     "output_type": "stream",
     "text": [
      "Epoch 159/200, Loss: 0.8821\n"
     ]
    },
    {
     "name": "stderr",
     "output_type": "stream",
     "text": [
      "Training: 7318it [01:25, 85.98it/s]                          \n"
     ]
    },
    {
     "name": "stdout",
     "output_type": "stream",
     "text": [
      "Epoch 160/200, Loss: 0.8842\n"
     ]
    },
    {
     "name": "stderr",
     "output_type": "stream",
     "text": [
      "Training: 7318it [01:25, 85.92it/s]                          \n"
     ]
    },
    {
     "name": "stdout",
     "output_type": "stream",
     "text": [
      "Epoch 161/200, Loss: 0.8807\n"
     ]
    },
    {
     "name": "stderr",
     "output_type": "stream",
     "text": [
      "Training: 7318it [01:24, 86.68it/s]                          \n"
     ]
    },
    {
     "name": "stdout",
     "output_type": "stream",
     "text": [
      "Epoch 162/200, Loss: 0.8817\n"
     ]
    },
    {
     "name": "stderr",
     "output_type": "stream",
     "text": [
      "Training: 7318it [01:24, 86.19it/s]                          \n"
     ]
    },
    {
     "name": "stdout",
     "output_type": "stream",
     "text": [
      "Epoch 163/200, Loss: 0.8827\n"
     ]
    },
    {
     "name": "stderr",
     "output_type": "stream",
     "text": [
      "Training: 7318it [01:24, 87.06it/s]                          \n"
     ]
    },
    {
     "name": "stdout",
     "output_type": "stream",
     "text": [
      "Epoch 164/200, Loss: 0.8803\n"
     ]
    },
    {
     "name": "stderr",
     "output_type": "stream",
     "text": [
      "Training: 7318it [01:24, 86.77it/s]                          \n"
     ]
    },
    {
     "name": "stdout",
     "output_type": "stream",
     "text": [
      "Epoch 165/200, Loss: 0.8827\n"
     ]
    },
    {
     "name": "stderr",
     "output_type": "stream",
     "text": [
      "Training: 7318it [01:24, 86.49it/s]                          \n"
     ]
    },
    {
     "name": "stdout",
     "output_type": "stream",
     "text": [
      "Epoch 166/200, Loss: 0.8783\n"
     ]
    },
    {
     "name": "stderr",
     "output_type": "stream",
     "text": [
      "Training: 7318it [01:24, 86.52it/s]                          \n"
     ]
    },
    {
     "name": "stdout",
     "output_type": "stream",
     "text": [
      "Epoch 167/200, Loss: 0.8814\n"
     ]
    },
    {
     "name": "stderr",
     "output_type": "stream",
     "text": [
      "Training: 7318it [01:24, 86.88it/s]                          \n"
     ]
    },
    {
     "name": "stdout",
     "output_type": "stream",
     "text": [
      "Epoch 168/200, Loss: 0.8802\n"
     ]
    },
    {
     "name": "stderr",
     "output_type": "stream",
     "text": [
      "Training: 7318it [01:24, 86.95it/s]                          \n"
     ]
    },
    {
     "name": "stdout",
     "output_type": "stream",
     "text": [
      "Epoch 169/200, Loss: 0.8811\n"
     ]
    },
    {
     "name": "stderr",
     "output_type": "stream",
     "text": [
      "Training: 7318it [01:24, 86.26it/s]                          \n"
     ]
    },
    {
     "name": "stdout",
     "output_type": "stream",
     "text": [
      "Epoch 170/200, Loss: 0.8803\n"
     ]
    },
    {
     "name": "stderr",
     "output_type": "stream",
     "text": [
      "Training: 7318it [01:25, 85.92it/s]                          \n"
     ]
    },
    {
     "name": "stdout",
     "output_type": "stream",
     "text": [
      "Epoch 171/200, Loss: 0.8785\n"
     ]
    },
    {
     "name": "stderr",
     "output_type": "stream",
     "text": [
      "Training: 7318it [01:25, 85.99it/s]                          \n"
     ]
    },
    {
     "name": "stdout",
     "output_type": "stream",
     "text": [
      "Epoch 172/200, Loss: 0.8809\n"
     ]
    },
    {
     "name": "stderr",
     "output_type": "stream",
     "text": [
      "Training: 7318it [01:24, 86.46it/s]                          \n"
     ]
    },
    {
     "name": "stdout",
     "output_type": "stream",
     "text": [
      "Epoch 173/200, Loss: 0.8808\n"
     ]
    },
    {
     "name": "stderr",
     "output_type": "stream",
     "text": [
      "Training: 7318it [01:25, 86.07it/s]                          \n"
     ]
    },
    {
     "name": "stdout",
     "output_type": "stream",
     "text": [
      "Epoch 174/200, Loss: 0.8778\n"
     ]
    },
    {
     "name": "stderr",
     "output_type": "stream",
     "text": [
      "Training: 7318it [01:24, 86.64it/s]                          \n"
     ]
    },
    {
     "name": "stdout",
     "output_type": "stream",
     "text": [
      "Epoch 175/200, Loss: 0.8775\n"
     ]
    },
    {
     "name": "stderr",
     "output_type": "stream",
     "text": [
      "Training: 7318it [01:24, 86.97it/s]                          \n"
     ]
    },
    {
     "name": "stdout",
     "output_type": "stream",
     "text": [
      "Epoch 176/200, Loss: 0.8794\n"
     ]
    },
    {
     "name": "stderr",
     "output_type": "stream",
     "text": [
      "Training: 7318it [01:24, 86.25it/s]                          \n"
     ]
    },
    {
     "name": "stdout",
     "output_type": "stream",
     "text": [
      "Epoch 177/200, Loss: 0.8768\n"
     ]
    },
    {
     "name": "stderr",
     "output_type": "stream",
     "text": [
      "Training: 7318it [01:24, 86.85it/s]                          \n"
     ]
    },
    {
     "name": "stdout",
     "output_type": "stream",
     "text": [
      "Epoch 178/200, Loss: 0.8790\n"
     ]
    },
    {
     "name": "stderr",
     "output_type": "stream",
     "text": [
      "Training: 7318it [01:24, 86.63it/s]                          \n"
     ]
    },
    {
     "name": "stdout",
     "output_type": "stream",
     "text": [
      "Epoch 179/200, Loss: 0.8757\n"
     ]
    },
    {
     "name": "stderr",
     "output_type": "stream",
     "text": [
      "Training: 7318it [01:24, 86.39it/s]                          \n"
     ]
    },
    {
     "name": "stdout",
     "output_type": "stream",
     "text": [
      "Epoch 180/200, Loss: 0.8770\n"
     ]
    },
    {
     "name": "stderr",
     "output_type": "stream",
     "text": [
      "Training: 7318it [01:24, 86.76it/s]                          \n"
     ]
    },
    {
     "name": "stdout",
     "output_type": "stream",
     "text": [
      "Epoch 181/200, Loss: 0.8770\n"
     ]
    },
    {
     "name": "stderr",
     "output_type": "stream",
     "text": [
      "Training: 7318it [01:24, 86.35it/s]                          \n"
     ]
    },
    {
     "name": "stdout",
     "output_type": "stream",
     "text": [
      "Epoch 182/200, Loss: 0.8802\n"
     ]
    },
    {
     "name": "stderr",
     "output_type": "stream",
     "text": [
      "Training: 7318it [01:24, 86.39it/s]                          \n"
     ]
    },
    {
     "name": "stdout",
     "output_type": "stream",
     "text": [
      "Epoch 183/200, Loss: 0.8790\n"
     ]
    },
    {
     "name": "stderr",
     "output_type": "stream",
     "text": [
      "Training: 7318it [01:24, 86.46it/s]                          \n"
     ]
    },
    {
     "name": "stdout",
     "output_type": "stream",
     "text": [
      "Epoch 184/200, Loss: 0.8770\n"
     ]
    },
    {
     "name": "stderr",
     "output_type": "stream",
     "text": [
      "Training: 7318it [01:24, 86.30it/s]                          \n"
     ]
    },
    {
     "name": "stdout",
     "output_type": "stream",
     "text": [
      "Epoch 185/200, Loss: 0.8771\n"
     ]
    },
    {
     "name": "stderr",
     "output_type": "stream",
     "text": [
      "Training: 7318it [01:24, 86.46it/s]                          \n"
     ]
    },
    {
     "name": "stdout",
     "output_type": "stream",
     "text": [
      "Epoch 186/200, Loss: 0.8757\n"
     ]
    },
    {
     "name": "stderr",
     "output_type": "stream",
     "text": [
      "Training: 7318it [01:24, 86.59it/s]                          \n"
     ]
    },
    {
     "name": "stdout",
     "output_type": "stream",
     "text": [
      "Epoch 187/200, Loss: 0.8766\n"
     ]
    },
    {
     "name": "stderr",
     "output_type": "stream",
     "text": [
      "Training: 7318it [01:24, 86.47it/s]                          \n"
     ]
    },
    {
     "name": "stdout",
     "output_type": "stream",
     "text": [
      "Epoch 188/200, Loss: 0.8765\n"
     ]
    },
    {
     "name": "stderr",
     "output_type": "stream",
     "text": [
      "Training: 7318it [01:25, 85.48it/s]                          \n"
     ]
    },
    {
     "name": "stdout",
     "output_type": "stream",
     "text": [
      "Epoch 189/200, Loss: 0.8760\n"
     ]
    },
    {
     "name": "stderr",
     "output_type": "stream",
     "text": [
      "Training: 7318it [01:24, 86.77it/s]                          \n"
     ]
    },
    {
     "name": "stdout",
     "output_type": "stream",
     "text": [
      "Epoch 190/200, Loss: 0.8758\n"
     ]
    },
    {
     "name": "stderr",
     "output_type": "stream",
     "text": [
      "Training: 7318it [01:24, 86.84it/s]                          \n"
     ]
    },
    {
     "name": "stdout",
     "output_type": "stream",
     "text": [
      "Epoch 191/200, Loss: 0.8768\n"
     ]
    },
    {
     "name": "stderr",
     "output_type": "stream",
     "text": [
      "Training: 7318it [01:24, 86.19it/s]                          \n"
     ]
    },
    {
     "name": "stdout",
     "output_type": "stream",
     "text": [
      "Epoch 192/200, Loss: 0.8742\n"
     ]
    },
    {
     "name": "stderr",
     "output_type": "stream",
     "text": [
      "Training: 7318it [01:24, 86.16it/s]                          \n"
     ]
    },
    {
     "name": "stdout",
     "output_type": "stream",
     "text": [
      "Epoch 193/200, Loss: 0.8763\n"
     ]
    },
    {
     "name": "stderr",
     "output_type": "stream",
     "text": [
      "Training: 7318it [01:25, 85.89it/s]                          \n"
     ]
    },
    {
     "name": "stdout",
     "output_type": "stream",
     "text": [
      "Epoch 194/200, Loss: 0.8731\n"
     ]
    },
    {
     "name": "stderr",
     "output_type": "stream",
     "text": [
      "Training: 7318it [01:24, 86.51it/s]                          \n"
     ]
    },
    {
     "name": "stdout",
     "output_type": "stream",
     "text": [
      "Epoch 195/200, Loss: 0.8753\n"
     ]
    },
    {
     "name": "stderr",
     "output_type": "stream",
     "text": [
      "Training: 7318it [01:25, 85.47it/s]                          \n"
     ]
    },
    {
     "name": "stdout",
     "output_type": "stream",
     "text": [
      "Epoch 196/200, Loss: 0.8754\n"
     ]
    },
    {
     "name": "stderr",
     "output_type": "stream",
     "text": [
      "Training: 7318it [01:24, 86.81it/s]                          \n"
     ]
    },
    {
     "name": "stdout",
     "output_type": "stream",
     "text": [
      "Epoch 197/200, Loss: 0.8760\n"
     ]
    },
    {
     "name": "stderr",
     "output_type": "stream",
     "text": [
      "Training: 7318it [01:24, 86.63it/s]                          \n"
     ]
    },
    {
     "name": "stdout",
     "output_type": "stream",
     "text": [
      "Epoch 198/200, Loss: 0.8750\n"
     ]
    },
    {
     "name": "stderr",
     "output_type": "stream",
     "text": [
      "Training: 7318it [01:24, 86.64it/s]                          \n"
     ]
    },
    {
     "name": "stdout",
     "output_type": "stream",
     "text": [
      "Epoch 199/200, Loss: 0.8745\n"
     ]
    },
    {
     "name": "stderr",
     "output_type": "stream",
     "text": [
      "Training: 7318it [01:24, 86.19it/s]                          "
     ]
    },
    {
     "name": "stdout",
     "output_type": "stream",
     "text": [
      "Epoch 200/200, Loss: 0.8749\n"
     ]
    },
    {
     "name": "stderr",
     "output_type": "stream",
     "text": [
      "\n"
     ]
    },
    {
     "data": {
      "image/png": "[encoded data removed]",
      "text/plain": [
       "<Figure size 1000x500 with 1 Axes>"
      ]
     },
     "metadata": {},
     "output_type": "display_data"
    }
   ],
   "source": [
    "import torch\n",
    "import matplotlib.pyplot as plt\n",
    "from tqdm import tqdm\n",
    "\n",
    "print(device)\n",
    "\n",
    "def plot_losses(losses):\n",
    "    epochs = range(1, len(losses['total']) + 1)\n",
    "    plt.figure(figsize=(10, 5))\n",
    "    plt.plot(epochs, losses['total'], label='Total Loss')\n",
    "    plt.plot(epochs, losses['reconstruction'], label='Reconstruction Loss')\n",
    "    plt.plot(epochs, losses['contrastive'], label='Contrastive Loss')\n",
    "    plt.xlabel('Epochs')\n",
    "    plt.ylabel('Loss')\n",
    "    plt.legend()\n",
    "    plt.title('Training Losses')\n",
    "    plt.show()\n",
    "    \n",
    "# Create the dataset\n",
    "dataset = EHRDataset(preprocessed_data)\n",
    "\n",
    "batch_size = 32\n",
    "# Create the patient sampler\n",
    "patient_sampler = PatientSampler(dataset, batch_size=batch_size)\n",
    "\n",
    "# Create the dataloader\n",
    "dataloader = DataLoader(dataset, batch_sampler=patient_sampler, collate_fn=collate_fn)\n",
    "\n",
    "# Training loop\n",
    "model = EHRTransformer(num_data_types, d_model, num_heads, num_layers, d_ff, dropout).to(device)\n",
    "\n",
    "# Assuming you have already defined and initialized your model, optimizer, dataloader, etc.\n",
    "model = model.to(device)\n",
    "optimizer = torch.optim.Adam(model.parameters(), lr=1e-5)\n",
    "\n",
    "# Training loop\n",
    "#num_epochs = 2\n",
    "all_losses = {'total': [], 'reconstruction': [], 'contrastive': []}\n",
    "\n",
    "for epoch in range(num_epochs):\n",
    "    epoch_loss, epoch_losses = train_epoch(model, dataloader, optimizer, continuous_features, num_categories, device)\n",
    "    print(f\"Epoch {epoch+1}/{num_epochs}, Loss: {epoch_loss:.4f}\")\n",
    "    \n",
    "    all_losses['total'].append(sum(epoch_losses['total']) / len(epoch_losses['total']))\n",
    "    all_losses['reconstruction'].append(sum(epoch_losses['reconstruction']) / len(epoch_losses['reconstruction']))\n",
    "    all_losses['contrastive'].append(sum(epoch_losses['contrastive']) / len(epoch_losses['contrastive']))\n",
    "\n",
    "# Plot losses\n",
    "plot_losses(all_losses)"
   ]
  },
  {
   "cell_type": "code",
   "execution_count": 37,
   "metadata": {},
   "outputs": [
    {
     "ename": "KeyError",
     "evalue": "1",
     "output_type": "error",
     "traceback": [
      "\u001b[0;31m---------------------------------------------------------------------------\u001b[0m",
      "\u001b[0;31mKeyError\u001b[0m                                  Traceback (most recent call last)",
      "Cell \u001b[0;32mIn[37], line 67\u001b[0m\n\u001b[1;32m     63\u001b[0m             plt\u001b[38;5;241m.\u001b[39mshow()\n\u001b[1;32m     65\u001b[0m             \u001b[38;5;28;01mbreak\u001b[39;00m  \u001b[38;5;66;03m# Only process one batch\u001b[39;00m\n\u001b[0;32m---> 67\u001b[0m \u001b[43mreconstruct_and_compare_features\u001b[49m\u001b[43m(\u001b[49m\u001b[43mmodel\u001b[49m\u001b[43m,\u001b[49m\u001b[43m \u001b[49m\u001b[43mdataloader\u001b[49m\u001b[43m,\u001b[49m\u001b[43m \u001b[49m\u001b[43mdevice\u001b[49m\u001b[43m,\u001b[49m\u001b[43m \u001b[49m\u001b[43mvalue_normalizer\u001b[49m\u001b[43m)\u001b[49m\n",
      "Cell \u001b[0;32mIn[37], line 33\u001b[0m, in \u001b[0;36mreconstruct_and_compare_features\u001b[0;34m(model, dataloader, device, value_normalizer, num_samples)\u001b[0m\n\u001b[1;32m     31\u001b[0m reconstructed_values_unscaled \u001b[38;5;241m=\u001b[39m []\n\u001b[1;32m     32\u001b[0m \u001b[38;5;28;01mfor\u001b[39;00m j, data_type \u001b[38;5;129;01min\u001b[39;00m \u001b[38;5;28menumerate\u001b[39m(data_types):\n\u001b[0;32m---> 33\u001b[0m     data_type_name \u001b[38;5;241m=\u001b[39m \u001b[43mvalue_normalizer\u001b[49m\u001b[38;5;241;43m.\u001b[39;49m\u001b[43mdata_type_to_idx\u001b[49m\u001b[43m[\u001b[49m\u001b[43mdata_type\u001b[49m\u001b[43m]\u001b[49m\n\u001b[1;32m     34\u001b[0m     original_values_unscaled\u001b[38;5;241m.\u001b[39mappend(value_normalizer\u001b[38;5;241m.\u001b[39minverse_normalize(data_type_name, original_values[j]))\n\u001b[1;32m     35\u001b[0m     reconstructed_values_unscaled\u001b[38;5;241m.\u001b[39mappend(value_normalizer\u001b[38;5;241m.\u001b[39minverse_normalize(data_type_name, reconstructed_values[j]))\n",
      "\u001b[0;31mKeyError\u001b[0m: 1"
     ]
    },
    {
     "data": {
      "image/png": "[encoded data removed]",
      "text/plain": [
       "<Figure size 1500x2500 with 5 Axes>"
      ]
     },
     "metadata": {},
     "output_type": "display_data"
    }
   ],
   "source": [
    "def reconstruct_and_compare_features(model, dataloader, device, value_normalizer, num_samples=5):\n",
    "    model.eval()\n",
    "    with torch.no_grad():\n",
    "        for batch in dataloader:\n",
    "            batch = {k: v.to(device) for k, v in batch.items() if isinstance(v, torch.Tensor)}\n",
    "            \n",
    "            output = model(batch['data_type'], batch['value'], batch['timestamp'], batch['time_diff'], batch['attention_mask'])\n",
    "\n",
    "            fig, axs = plt.subplots(num_samples, 1, figsize=(15, 5 * num_samples))\n",
    "            fig.suptitle(\"Original vs Reconstructed Samples\")\n",
    "\n",
    "            for i in range(num_samples):\n",
    "                patient_data = {k: v[i] for k, v in batch.items()}\n",
    "                patient_output = output[i]\n",
    "\n",
    "                valid_indices = patient_data['attention_mask'].bool()\n",
    "\n",
    "                timestamps = patient_data['timestamp'][valid_indices].cpu().numpy()\n",
    "                data_types = patient_data['data_type'][valid_indices].cpu().numpy()\n",
    "                original_values = patient_data['value'][valid_indices].cpu().numpy()\n",
    "                reconstructed_values = patient_output[valid_indices, 0].cpu().numpy()\n",
    "\n",
    "                original_values_unscaled = []\n",
    "                reconstructed_values_unscaled = []\n",
    "                for j, data_type_idx in enumerate(data_types):\n",
    "                    data_type_name = value_normalizer.idx_to_data_type[data_type_idx.item()]\n",
    "                    original_values_unscaled.append(value_normalizer.inverse_normalize(data_type_name, original_values[j]))\n",
    "                    reconstructed_values_unscaled.append(value_normalizer.inverse_normalize(data_type_name, reconstructed_values[j]))\n",
    "\n",
    "                original_values_unscaled = np.array(original_values_unscaled)\n",
    "                reconstructed_values_unscaled = np.array(reconstructed_values_unscaled)\n",
    "\n",
    "                sort_idx = np.argsort(timestamps)\n",
    "                timestamps = timestamps[sort_idx]\n",
    "                data_types = data_types[sort_idx]\n",
    "                original_values_unscaled = original_values_unscaled[sort_idx]\n",
    "                reconstructed_values_unscaled = reconstructed_values_unscaled[sort_idx]\n",
    "\n",
    "                axs[i].scatter(timestamps, original_values_unscaled, label='Original', marker='o')\n",
    "                axs[i].scatter(timestamps, reconstructed_values_unscaled, label='Reconstructed', marker='x')\n",
    "                \n",
    "                for j, (t, v, dt) in enumerate(zip(timestamps, original_values_unscaled, data_types)):\n",
    "                    axs[i].annotate(value_normalizer.idx_to_data_type[dt.item()], (t, v), xytext=(5, 5), \n",
    "                                    textcoords='offset points', fontsize=8, alpha=0.7)\n",
    "\n",
    "                axs[i].set_title(f\"Sample {i+1}\")\n",
    "                axs[i].set_xlabel(\"Timestamp\")\n",
    "                axs[i].set_ylabel(\"Value\")\n",
    "                axs[i].legend()\n",
    "\n",
    "            plt.tight_layout()\n",
    "            plt.show()\n",
    "\n",
    "            break  # Only process one batch\n",
    "       \n",
    "reconstruct_and_compare_features(model, dataloader, device, value_normalizer)"
   ]
  },
  {
   "cell_type": "code",
   "execution_count": 14,
   "metadata": {},
   "outputs": [
    {
     "name": "stdout",
     "output_type": "stream",
     "text": [
      "Value shape: torch.Size([40])\n",
      "Output shape: torch.Size([512, 40, 128])\n"
     ]
    }
   ],
   "source": [
    "print(\"Value shape:\", value.shape)\n",
    "print(\"Output shape:\", output.shape)"
   ]
  }
 ],
 "metadata": {
  "kernelspec": {
   "display_name": "Python 3",
   "language": "python",
   "name": "python3"
  },
  "language_info": {
   "codemirror_mode": {
    "name": "ipython",
    "version": 3
   },
   "file_extension": ".py",
   "mimetype": "text/x-python",
   "name": "python",
   "nbconvert_exporter": "python",
   "pygments_lexer": "ipython3",
   "version": "3.10.12"
  }
 },
 "nbformat": 4,
 "nbformat_minor": 2
}
